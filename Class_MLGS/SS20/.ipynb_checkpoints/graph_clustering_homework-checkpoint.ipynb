{
 "cells": [
  {
   "cell_type": "code",
   "execution_count": 1,
   "metadata": {},
   "outputs": [],
   "source": [
    "from IPython.core.interactiveshell import InteractiveShell\n",
    "InteractiveShell.ast_node_interactivity = \"all\"\n",
    "\n",
    "import itertools\n",
    "\n",
    "import numpy as np\n",
    "from scipy.linalg import eigh\n",
    "from scipy.sparse import coo_matrix"
   ]
  },
  {
   "cell_type": "code",
   "execution_count": 2,
   "metadata": {},
   "outputs": [],
   "source": [
    "def laplacian(A):\n",
    "    D = A.sum(axis=0)\n",
    "    return np.identity(A.shape[0]) * D - A"
   ]
  },
  {
   "cell_type": "code",
   "execution_count": 3,
   "metadata": {},
   "outputs": [],
   "source": [
    "def format_partitioning(f):\n",
    "    c1 = (f > 0.0).nonzero()[0]\n",
    "    c2 = (f < 0.0).nonzero()[0]\n",
    "    return f\"{{{', '.join(map(str, c1))}}} {{{', '.join(map(str, c2))}}}\""
   ]
  },
  {
   "cell_type": "code",
   "execution_count": 4,
   "metadata": {},
   "outputs": [
    {
     "data": {
      "text/plain": [
       "array([[0, 0, 1, 1, 2, 2, 2, 2, 4, 5],\n",
       "       [1, 3, 2, 3, 3, 4, 5, 6, 5, 6],\n",
       "       [2, 2, 4, 2, 1, 3, 4, 4, 2, 1]])"
      ]
     },
     "execution_count": 4,
     "metadata": {},
     "output_type": "execute_result"
    }
   ],
   "source": [
    "edges = np.array([[0, 1, 2], [0, 3, 2], [1, 2, 4], [1, 3, 2], [2, 3, 1], [2, 4, 3], [2, 5, 4], [2, 6, 4], [4, 5, 2], [5, 6, 1]]).T\n",
    "edges"
   ]
  },
  {
   "cell_type": "code",
   "execution_count": 5,
   "metadata": {},
   "outputs": [
    {
     "data": {
      "text/plain": [
       "array([[0, 2, 0, 2, 0, 0, 0],\n",
       "       [2, 0, 4, 2, 0, 0, 0],\n",
       "       [0, 4, 0, 1, 3, 4, 4],\n",
       "       [2, 2, 1, 0, 0, 0, 0],\n",
       "       [0, 0, 3, 0, 0, 2, 0],\n",
       "       [0, 0, 4, 0, 2, 0, 1],\n",
       "       [0, 0, 4, 0, 0, 1, 0]])"
      ]
     },
     "execution_count": 5,
     "metadata": {},
     "output_type": "execute_result"
    },
    {
     "data": {
      "text/plain": [
       "array([[ 4., -2.,  0., -2.,  0.,  0.,  0.],\n",
       "       [-2.,  8., -4., -2.,  0.,  0.,  0.],\n",
       "       [ 0., -4., 16., -1., -3., -4., -4.],\n",
       "       [-2., -2., -1.,  5.,  0.,  0.,  0.],\n",
       "       [ 0.,  0., -3.,  0.,  5., -2.,  0.],\n",
       "       [ 0.,  0., -4.,  0., -2.,  7., -1.],\n",
       "       [ 0.,  0., -4.,  0.,  0., -1.,  5.]])"
      ]
     },
     "execution_count": 5,
     "metadata": {},
     "output_type": "execute_result"
    }
   ],
   "source": [
    "A = coo_matrix((edges[2], (edges[0], edges[1])), shape=(7,7))\n",
    "A = A.toarray()\n",
    "A = A + A.T\n",
    "A\n",
    "L = laplacian(A)\n",
    "L"
   ]
  },
  {
   "cell_type": "code",
   "execution_count": 20,
   "metadata": {},
   "outputs": [
    {
     "ename": "SyntaxError",
     "evalue": "invalid syntax (<ipython-input-20-a197bb7fcbf8>, line 1)",
     "output_type": "error",
     "traceback": [
      "\u001b[1;36m  File \u001b[1;32m\"<ipython-input-20-a197bb7fcbf8>\"\u001b[1;36m, line \u001b[1;32m1\u001b[0m\n\u001b[1;33m    fs = [((f := np.array(f_)) @ L @ f /4, f) for f_ in itertools.product([-1, 1], repeat=A.shape[0]) if len(set(f_)) > 1 ]\u001b[0m\n\u001b[1;37m              ^\u001b[0m\n\u001b[1;31mSyntaxError\u001b[0m\u001b[1;31m:\u001b[0m invalid syntax\n"
     ]
    }
   ],
   "source": [
    "fs = [((f := np.array(f_)) @ L @ f /4, f) for f_ in itertools.product([-1, 1], repeat=A.shape[0]) if len(set(f_)) > 1 ]\n",
    "\n",
    "min_cost, min_cut = min(fs, key=lambda f: f[0])\n",
    "print(f\"Global minimum cut is {format_partitioning(min_cut)} at cost {min_cost}\")\n",
    "# the version is too low to distinguish the symbol :="
   ]
  },
  {
   "cell_type": "code",
   "execution_count": 9,
   "metadata": {},
   "outputs": [
    {
     "name": "stdout",
     "output_type": "stream",
     "text": [
      "Approximate ratio cut is {0, 1, 3} {2, 4, 5, 6}\n"
     ]
    }
   ],
   "source": [
    "# approximate ratio cut\n",
    "lambda_, v = eigh(L, eigvals=(1, 1))\n",
    "print(f\"Approximate ratio cut is {format_partitioning(v.squeeze())}\")"
   ]
  },
  {
   "cell_type": "code",
   "execution_count": 8,
   "metadata": {},
   "outputs": [
    {
     "name": "stdout",
     "output_type": "stream",
     "text": [
      "Approximate normalized cut is {0, 1, 3} {2, 4, 5, 6}\n"
     ]
    }
   ],
   "source": [
    "# approximate normalized cut\n",
    "D_sqrt = np.diag(np.sqrt(A.sum(axis=1)))\n",
    "L_normalized = D_sqrt @ L @ D_sqrt\n",
    "lambda_, v = eigh(L_normalized, eigvals=(1, 1))\n",
    "print(f\"Approximate normalized cut is {format_partitioning(v.squeeze())}\")"
   ]
  },
  {
   "cell_type": "code",
   "execution_count": null,
   "metadata": {},
   "outputs": [],
   "source": []
  }
 ],
 "metadata": {
  "kernelspec": {
   "display_name": "Python 3",
   "language": "python",
   "name": "python3"
  },
  "language_info": {
   "codemirror_mode": {
    "name": "ipython",
    "version": 3
   },
   "file_extension": ".py",
   "mimetype": "text/x-python",
   "name": "python",
   "nbconvert_exporter": "python",
   "pygments_lexer": "ipython3",
   "version": "3.7.7"
  }
 },
 "nbformat": 4,
 "nbformat_minor": 4
}
