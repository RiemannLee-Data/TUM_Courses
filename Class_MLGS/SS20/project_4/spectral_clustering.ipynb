{
 "cells": [
  {
   "cell_type": "code",
   "execution_count": 1,
   "metadata": {
    "colab": {},
    "colab_type": "code",
    "id": "qurNwq6o5saq"
   },
   "outputs": [],
   "source": [
    "from IPython.core.interactiveshell import InteractiveShell\n",
    "InteractiveShell.ast_node_interactivity = \"all\"\n",
    "\n",
    "from typing import List\n",
    "\n",
    "import numpy as np\n",
    "import scipy.sparse as sp"
   ]
  },
  {
   "cell_type": "markdown",
   "metadata": {
    "colab_type": "text",
    "id": "p2u6k4ZO5sau"
   },
   "source": [
    "# Project 4: Spectral clustering users based on their preferences (50 pt)\n",
    "\n",
    "The goal of this task is to find groups of users with similar preferences using **Spectral clustering**. \n",
    "You are given a fragment of the Yelp social network, represented by an undirected weighted graph.\n",
    "Nodes in the graph represent users.\n",
    "If two users are connected by an edge of weight $w$, it means that they have both left positive reviews to the same $w$ restaurants.\n",
    "\n",
    "Additionally, you are given a matrix `F` that encodes user preferences to different categories of restaurants. If `F[i, c] = 1`, then user `i` likes restaurants in category `c`.\n",
    "\n",
    "You are allowed to use the imported functions (`eigsh`, `KMeans`, `normalize`).\n",
    "\n",
    "## General remarks\n",
    "Do not add or modify any code outside of the following comment blocks, or where otherwise explicitly stated.\n",
    "\n",
    "``` python\n",
    "##########################################################\n",
    "# YOUR CODE HERE\n",
    "...\n",
    "##########################################################\n",
    "```\n",
    "After you fill in all the missing code, restart the kernel and re-run all the cells in the notebook.\n",
    "\n",
    "The following things are **NOT** allowed:\n",
    "- Using additional `import` statements\n",
    "- Copying / reusing code from other sources (e.g. code by other students)\n",
    "\n",
    "If you plagiarise even for a single project task, you won't be eligible for the bonus this semester."
   ]
  },
  {
   "cell_type": "markdown",
   "metadata": {
    "colab_type": "text",
    "id": "CzJ-rb4S5sau"
   },
   "source": [
    "## Load the data\n",
    "\n",
    "* `N` = number of users (nodes in the graph)\n",
    "* `C` = number of categories\n",
    "* The graph is stored as a _sparse adjacency matrix_ `A` (shape `[N, N]`).\n",
    "* User preferences are stored in a _feature matrix_ `F` (shape `[N, C]`). They will only be used for the final part of the assignment (Part 3)\n",
    "* Name of each category is provided in the list `categories` (length `[C]`)."
   ]
  },
  {
   "cell_type": "code",
   "execution_count": 2,
   "metadata": {
    "colab": {},
    "colab_type": "code",
    "id": "vTca2t2m5sav"
   },
   "outputs": [],
   "source": [
    "A = sp.load_npz('A.npz') # shape[N, N]: Yelp graph\n",
    "F = np.load('F.npy') # shape[N, C]: user preferences to different categories of restaurants\n",
    "categories = np.load('categories.npy', allow_pickle=True).tolist()"
   ]
  },
  {
   "cell_type": "code",
   "execution_count": 3,
   "metadata": {
    "colab": {},
    "colab_type": "code",
    "id": "cTNdjFmq5say"
   },
   "outputs": [],
   "source": [
    "assert A.shape[0] == F.shape[0]\n",
    "assert F.shape[1] == len(categories)"
   ]
  },
  {
   "cell_type": "code",
   "execution_count": 4,
   "metadata": {
    "colab": {
     "base_uri": "https://localhost:8080/",
     "height": 35
    },
    "colab_type": "code",
    "id": "pR-INj-55sa0",
    "outputId": "51610451-a360-4534-fc50-f421874d4d69"
   },
   "outputs": [
    {
     "output_type": "stream",
     "name": "stdout",
     "text": [
      "The adjacency matrix is symmetric\n"
     ]
    }
   ],
   "source": [
    "print(f'The adjacency matrix is {\"symmetric\" if (A != A.T).sum() == 0 else \"asymmetric\"}')"
   ]
  },
  {
   "cell_type": "markdown",
   "metadata": {
    "colab_type": "text",
    "id": "4DKknTW15sa3"
   },
   "source": [
    "# 1. Implementing spectral clustering (35 pt)\n",
    "## 1.1. Construct the graph Laplacian (10 pt)"
   ]
  },
  {
   "cell_type": "markdown",
   "metadata": {
    "colab_type": "text",
    "id": "xYpCMpZ55sa3"
   },
   "source": [
    "First, we need to construct the Laplacian for the given graph (*Do only use sparse operations, see [Scipy Sparse](https://docs.scipy.org/doc/scipy/reference/sparse.html)*). \n",
    "\n",
    "Given the **adjacency matrix** $A \\in \\mathbb{R}^{N \\times N},$ we define the **degree matrix** $D \\in \\mathbb{R}^{N \\times N}$ of an undirected graph as\n",
    "$$D_{ij} =  \\begin{cases}\\sum_{k=1}^N A_{ik} & if \\;\\; i = j\\\\ 0 & if \\;\\; i \\ne j\\end{cases}$$\n",
    "\n",
    "If our goal is to minimize the **ratio cut**, we will need to use the **unnormalized Laplacian**, defined as\n",
    "$$L_{unnorm} = D - A.$$\n",
    "\n",
    "If our goal is to minimze the **normalized cut**, we will need to use the **normalized Laplacian** (a.k.a. symmetrized Laplacian), defined as\n",
    "$$L_{sym} = I - D^{-1/2}AD^{-1/2}$$"
   ]
  },
  {
   "cell_type": "code",
   "execution_count": 5,
   "metadata": {
    "colab": {},
    "colab_type": "code",
    "id": "OzSkRNmq5sa4"
   },
   "outputs": [],
   "source": [
    "def construct_laplacian(A: sp.csr_matrix, norm_laplacian: bool) -> sp.csr_matrix:\n",
    "    \"\"\"Construct Laplacian of a graph.\n",
    "    \n",
    "    Parameters\n",
    "    ----------\n",
    "    A : scipy.sparse.csr_matrix, shape [N, N]\n",
    "        Adjacency matrix of the graph.\n",
    "    norm_laplacian : bool\n",
    "        Whether to construct the normalized graph Laplacian or not.\n",
    "        If True, construct the normalized (symmetrized) Laplacian, L = I - D^{-1/2} A D^{-1/2}.\n",
    "        If False, construct the unnormalized Laplacian, L = D - A.\n",
    "        \n",
    "    Returns\n",
    "    -------\n",
    "    L : scipy.sparse.csr_matrix, shape [N, N]\n",
    "        Laplacian of the graph.\n",
    "        \n",
    "    \"\"\"\n",
    "    ##########################################################\n",
    "    # YOUR CODE HERE\n",
    "#     opps!!! need to use sparse operation !!!\n",
    "#     see the instructions! should use sp.csr_matrix here!!!\n",
    "#     N = np.shape(A)[0]\n",
    "#     I = np.eye(N)\n",
    "#     D = np.zeros_like(A)\n",
    "#     np.fill_diagonal(D, A.sum(axis=1))\n",
    "#     D_minus_half = np.linalg.inv(D**0.5)\n",
    "    \n",
    "    N = A.shape[0]\n",
    "    I = sp.eye(N)\n",
    "    \n",
    "    row = np.arange(N)\n",
    "    col = np.arange(N)\n",
    "    # the data here need to be 1D array\n",
    "    # datas = np.squeeze(np.asarray(A.sum(axis=1)))\n",
    "    # just find a simpler function here\n",
    "    data = A.sum(axis=1).getA1()\n",
    "    \n",
    "    \n",
    "    if norm_laplacian:\n",
    "        data_norm = np.reciprocal(np.sqrt(data))\n",
    "        D_sqrt_inv = sp.csc_matrix((data_norm, (row, col)), shape=(N, N), dtype=float).toarray()\n",
    "        L = I - D_sqrt_inv @ A @ D_sqrt_inv        \n",
    "    else:\n",
    "        D = sp.csc_matrix((data, (row, col)), shape=(N, N), dtype=float).toarray()\n",
    "        L = D - A\n",
    "        \n",
    "    ##########################################################\n",
    "    return L"
   ]
  },
  {
   "cell_type": "markdown",
   "metadata": {
    "colab_type": "text",
    "id": "wCFiSSpO5sa6"
   },
   "source": [
    "## 1.2. Spectral embedding (10 pt)"
   ]
  },
  {
   "cell_type": "markdown",
   "metadata": {
    "colab_type": "text",
    "id": "AtbjZh0P5sa6"
   },
   "source": [
    "Now, we have to compute the spectral embedding for the given graph.\n",
    "\n",
    "In order to partition the graph into $k$ clusters, such that the desired cut (ratio or normalized) is minimized, we need to consider the $k$ eigenvectors corresponding to the $k$ smallest eigenvalues of the graph Laplacian.\n",
    "\n",
    "Since the Laplacian matrix is sparse and symmetric, we can use the function `eigsh` from the `scipy.sparse.linalg` package in order to find eigendecomposition of $L$ (`eig` - eigendecomposition, `s` - sparse, `h`- Hermitian).\n",
    "The function `eigsh` directly allows you to find the smallest / largest eigenvalues by specifying the `k` and `which` parameters. \n",
    "\n",
    "Keep in mind that the Laplacian matrix is always positive semi-definite when picking the appropriate value for the `which` parameter."
   ]
  },
  {
   "cell_type": "code",
   "execution_count": 6,
   "metadata": {
    "colab": {},
    "colab_type": "code",
    "id": "4Fb0vKhR5sa6"
   },
   "outputs": [],
   "source": [
    "from scipy.sparse.linalg import eigsh"
   ]
  },
  {
   "cell_type": "code",
   "execution_count": 7,
   "metadata": {
    "colab": {
     "base_uri": "https://localhost:8080/",
     "height": 1000
    },
    "colab_type": "code",
    "id": "_66JqTs_5sa9",
    "outputId": "e008d27f-30e4-410c-b6fd-c3017515dc03",
    "scrolled": true
   },
   "outputs": [
    {
     "output_type": "stream",
     "name": "stdout",
     "text": [
      "Help on function eigsh in module scipy.sparse.linalg.eigen.arpack.arpack:\n\neigsh(A, k=6, M=None, sigma=None, which='LM', v0=None, ncv=None, maxiter=None, tol=0, return_eigenvectors=True, Minv=None, OPinv=None, mode='normal')\n    Find k eigenvalues and eigenvectors of the real symmetric square matrix\n    or complex hermitian matrix A.\n    \n    Solves ``A * x[i] = w[i] * x[i]``, the standard eigenvalue problem for\n    w[i] eigenvalues with corresponding eigenvectors x[i].\n    \n    If M is specified, solves ``A * x[i] = w[i] * M * x[i]``, the\n    generalized eigenvalue problem for w[i] eigenvalues\n    with corresponding eigenvectors x[i].\n    \n    Parameters\n    ----------\n    A : ndarray, sparse matrix or LinearOperator\n        A square operator representing the operation ``A * x``, where ``A`` is\n        real symmetric or complex hermitian. For buckling mode (see below)\n        ``A`` must additionally be positive-definite.\n    k : int, optional\n        The number of eigenvalues and eigenvectors desired.\n        `k` must be smaller than N. It is not possible to compute all\n        eigenvectors of a matrix.\n    \n    Returns\n    -------\n    w : array\n        Array of k eigenvalues.\n    v : array\n        An array representing the `k` eigenvectors.  The column ``v[:, i]`` is\n        the eigenvector corresponding to the eigenvalue ``w[i]``.\n    \n    Other Parameters\n    ----------------\n    M : An N x N matrix, array, sparse matrix, or linear operator representing\n        the operation ``M @ x`` for the generalized eigenvalue problem\n    \n            A @ x = w * M @ x.\n    \n        M must represent a real, symmetric matrix if A is real, and must\n        represent a complex, hermitian matrix if A is complex. For best\n        results, the data type of M should be the same as that of A.\n        Additionally:\n    \n            If sigma is None, M is symmetric positive definite.\n    \n            If sigma is specified, M is symmetric positive semi-definite.\n    \n            In buckling mode, M is symmetric indefinite.\n    \n        If sigma is None, eigsh requires an operator to compute the solution\n        of the linear equation ``M @ x = b``. This is done internally via a\n        (sparse) LU decomposition for an explicit matrix M, or via an\n        iterative solver for a general linear operator.  Alternatively,\n        the user can supply the matrix or operator Minv, which gives\n        ``x = Minv @ b = M^-1 @ b``.\n    sigma : real\n        Find eigenvalues near sigma using shift-invert mode.  This requires\n        an operator to compute the solution of the linear system\n        ``[A - sigma * M] x = b``, where M is the identity matrix if\n        unspecified.  This is computed internally via a (sparse) LU\n        decomposition for explicit matrices A & M, or via an iterative\n        solver if either A or M is a general linear operator.\n        Alternatively, the user can supply the matrix or operator OPinv,\n        which gives ``x = OPinv @ b = [A - sigma * M]^-1 @ b``.\n        Note that when sigma is specified, the keyword 'which' refers to\n        the shifted eigenvalues ``w'[i]`` where:\n    \n            if mode == 'normal', ``w'[i] = 1 / (w[i] - sigma)``.\n    \n            if mode == 'cayley', ``w'[i] = (w[i] + sigma) / (w[i] - sigma)``.\n    \n            if mode == 'buckling', ``w'[i] = w[i] / (w[i] - sigma)``.\n    \n        (see further discussion in 'mode' below)\n    v0 : ndarray, optional\n        Starting vector for iteration.\n        Default: random\n    ncv : int, optional\n        The number of Lanczos vectors generated ncv must be greater than k and\n        smaller than n; it is recommended that ``ncv > 2*k``.\n        Default: ``min(n, max(2*k + 1, 20))``\n    which : str ['LM' | 'SM' | 'LA' | 'SA' | 'BE']\n        If A is a complex hermitian matrix, 'BE' is invalid.\n        Which `k` eigenvectors and eigenvalues to find:\n    \n            'LM' : Largest (in magnitude) eigenvalues.\n    \n            'SM' : Smallest (in magnitude) eigenvalues.\n    \n            'LA' : Largest (algebraic) eigenvalues.\n    \n            'SA' : Smallest (algebraic) eigenvalues.\n    \n            'BE' : Half (k/2) from each end of the spectrum.\n    \n        When k is odd, return one more (k/2+1) from the high end.\n        When sigma != None, 'which' refers to the shifted eigenvalues ``w'[i]``\n        (see discussion in 'sigma', above).  ARPACK is generally better\n        at finding large values than small values.  If small eigenvalues are\n        desired, consider using shift-invert mode for better performance.\n    maxiter : int, optional\n        Maximum number of Arnoldi update iterations allowed.\n        Default: ``n*10``\n    tol : float\n        Relative accuracy for eigenvalues (stopping criterion).\n        The default value of 0 implies machine precision.\n    Minv : N x N matrix, array, sparse matrix, or LinearOperator\n        See notes in M, above.\n    OPinv : N x N matrix, array, sparse matrix, or LinearOperator\n        See notes in sigma, above.\n    return_eigenvectors : bool\n        Return eigenvectors (True) in addition to eigenvalues.\n        This value determines the order in which eigenvalues are sorted.\n        The sort order is also dependent on the `which` variable.\n    \n            For which = 'LM' or 'SA':\n                If `return_eigenvectors` is True, eigenvalues are sorted by\n                algebraic value.\n    \n                If `return_eigenvectors` is False, eigenvalues are sorted by\n                absolute value.\n    \n            For which = 'BE' or 'LA':\n                eigenvalues are always sorted by algebraic value.\n    \n            For which = 'SM':\n                If `return_eigenvectors` is True, eigenvalues are sorted by\n                algebraic value.\n    \n                If `return_eigenvectors` is False, eigenvalues are sorted by\n                decreasing absolute value.\n    \n    mode : string ['normal' | 'buckling' | 'cayley']\n        Specify strategy to use for shift-invert mode.  This argument applies\n        only for real-valued A and sigma != None.  For shift-invert mode,\n        ARPACK internally solves the eigenvalue problem\n        ``OP * x'[i] = w'[i] * B * x'[i]``\n        and transforms the resulting Ritz vectors x'[i] and Ritz values w'[i]\n        into the desired eigenvectors and eigenvalues of the problem\n        ``A * x[i] = w[i] * M * x[i]``.\n        The modes are as follows:\n    \n            'normal' :\n                OP = [A - sigma * M]^-1 @ M,\n                B = M,\n                w'[i] = 1 / (w[i] - sigma)\n    \n            'buckling' :\n                OP = [A - sigma * M]^-1 @ A,\n                B = A,\n                w'[i] = w[i] / (w[i] - sigma)\n    \n            'cayley' :\n                OP = [A - sigma * M]^-1 @ [A + sigma * M],\n                B = M,\n                w'[i] = (w[i] + sigma) / (w[i] - sigma)\n    \n        The choice of mode will affect which eigenvalues are selected by\n        the keyword 'which', and can also impact the stability of\n        convergence (see [2] for a discussion).\n    \n    Raises\n    ------\n    ArpackNoConvergence\n        When the requested convergence is not obtained.\n    \n        The currently converged eigenvalues and eigenvectors can be found\n        as ``eigenvalues`` and ``eigenvectors`` attributes of the exception\n        object.\n    \n    See Also\n    --------\n    eigs : eigenvalues and eigenvectors for a general (nonsymmetric) matrix A\n    svds : singular value decomposition for a matrix A\n    \n    Notes\n    -----\n    This function is a wrapper to the ARPACK [1]_ SSEUPD and DSEUPD\n    functions which use the Implicitly Restarted Lanczos Method to\n    find the eigenvalues and eigenvectors [2]_.\n    \n    References\n    ----------\n    .. [1] ARPACK Software, http://www.caam.rice.edu/software/ARPACK/\n    .. [2] R. B. Lehoucq, D. C. Sorensen, and C. Yang,  ARPACK USERS GUIDE:\n       Solution of Large Scale Eigenvalue Problems by Implicitly Restarted\n       Arnoldi Methods. SIAM, Philadelphia, PA, 1998.\n    \n    Examples\n    --------\n    >>> from scipy.sparse.linalg import eigsh\n    >>> identity = np.eye(13)\n    >>> eigenvalues, eigenvectors = eigsh(identity, k=6)\n    >>> eigenvalues\n    array([1., 1., 1., 1., 1., 1.])\n    >>> eigenvectors.shape\n    (13, 6)\n\n"
     ]
    }
   ],
   "source": [
    "help(eigsh)"
   ]
  },
  {
   "cell_type": "code",
   "execution_count": 8,
   "metadata": {
    "colab": {},
    "colab_type": "code",
    "id": "XSthcrsf5sa_"
   },
   "outputs": [],
   "source": [
    "def spectral_embedding(A: sp.csr_matrix, num_clusters: int, norm_laplacian: bool) -> np.array:\n",
    "    \"\"\"Compute spectral embedding of nodes in the given graph.\n",
    "    \n",
    "    Parameters\n",
    "    ----------\n",
    "    A : scipy.sparse.csr_matrix, shape [N, N]\n",
    "        Adjacency matrix of the graph.\n",
    "    num_clusters : int\n",
    "        Number of clusters to detect in the data.\n",
    "    norm_laplacian : bool, default False\n",
    "        Whether to use the normalized graph Laplacian or not.\n",
    "        \n",
    "    Returns\n",
    "    -------\n",
    "    embedding : np.array, shape [N, num_clusters]\n",
    "        Spectral embedding for the given graph.\n",
    "        Each row represents the spectral embedding of a given node.\n",
    "    \n",
    "    \"\"\"\n",
    "    if (A != A.T).sum() != 0:\n",
    "        raise ValueError(\"Spectral embedding doesn't work if the adjacency matrix is not symmetric.\")\n",
    "    if num_clusters < 2:\n",
    "        raise ValueError(\"The clustering requires at least two clusters.\")\n",
    "    if num_clusters > A.shape[0]:\n",
    "        raise ValueError(f\"We can have at most {A.shape[0]} clusters (number of nodes).\")\n",
    "    ##########################################################\n",
    "    # YOUR CODE HERE\n",
    "    \n",
    "    # raise Error: matrix type must be 'f', 'd', 'F', or 'D', need to define the type\n",
    "    L = construct_laplacian(A, norm_laplacian)\n",
    "    \n",
    "    eigenvalues, eigenvectors = eigsh(L, k=num_clusters, which='SM')\n",
    "    ##########################################################\n",
    "    return eigenvectors"
   ]
  },
  {
   "cell_type": "markdown",
   "metadata": {
    "colab_type": "text",
    "id": "zzk9D_8a5sbB"
   },
   "source": [
    "## 1.3. Determine the clusters based on the spectral embedding (15 pt)"
   ]
  },
  {
   "cell_type": "markdown",
   "metadata": {
    "colab_type": "text",
    "id": "6d2SjH9n5sbC"
   },
   "source": [
    "You should use the K-means algorithm for assigning nodes to clusters, once the spectral embedding is computed.\n",
    "\n",
    "One thing you should keep in mind, is that when using the **normalized Laplacian**, the rows of the embedding matrix **have to** be normalized to have unit $L_2$ norm."
   ]
  },
  {
   "cell_type": "code",
   "execution_count": 9,
   "metadata": {
    "colab": {},
    "colab_type": "code",
    "id": "i364IvsB5sbC"
   },
   "outputs": [],
   "source": [
    "from sklearn.cluster import KMeans\n",
    "from sklearn.preprocessing import normalize"
   ]
  },
  {
   "cell_type": "code",
   "execution_count": 10,
   "metadata": {
    "colab": {},
    "colab_type": "code",
    "id": "zrbxpXqY5sbE"
   },
   "outputs": [],
   "source": [
    "def spectral_clustering(A: sp.csr_matrix, num_clusters: int, norm_laplacian: bool, seed: int = 42) -> np.array:\n",
    "    \"\"\"Perform spectral clustering on the given graph.\n",
    "    \n",
    "    Parameters\n",
    "    ----------\n",
    "    A : scipy.sparse.csr_matrix, shape [N, N]\n",
    "        Adjacency matrix of the graph.\n",
    "    num_clusters : int\n",
    "        Number of clusters to detect in the data.\n",
    "    norm_laplacian : bool, default False\n",
    "        Whether to use the normalized graph Laplacian or not.\n",
    "    seed : int, default 42\n",
    "        Random seed to use for the `KMeans` clustering.\n",
    "        \n",
    "    Returns\n",
    "    -------\n",
    "    z_pred : np.array, shape [N]\n",
    "        Predicted cluster indicators for each node.\n",
    "        \n",
    "    \"\"\"\n",
    "    model = KMeans(num_clusters, random_state=seed)\n",
    "    ##########################################################\n",
    "    # YOUR CODE HERE\n",
    "    # L = construct_laplacian(A, norm_laplacian)\n",
    "    embedding = spectral_embedding(A, num_clusters, norm_laplacian) # shape:[N, num_clusters]\n",
    "    \n",
    "    # The rows of the embedding matrix have to be normalized!!\n",
    "    # Each row represents the spectral embedding of a given node???\n",
    "    # if axis=1, independently normalize each sample, otherwise (if 0) normalize each feature.\n",
    "    if norm_laplacian:\n",
    "#         embedding = normalize(embedding, norm='l2', axis=0)\n",
    "        embedding = normalize(embedding, norm='l2', axis=1)\n",
    "    \n",
    "    kmeans = model.fit(embedding)\n",
    "    z_pred = kmeans.labels_\n",
    "    ##########################################################\n",
    "    return z_pred"
   ]
  },
  {
   "cell_type": "markdown",
   "metadata": {
    "colab_type": "text",
    "id": "RFfFoL9Q5sbG"
   },
   "source": [
    "# 2. Quantitatively evaluate the results (10 pt)"
   ]
  },
  {
   "cell_type": "code",
   "execution_count": 11,
   "metadata": {
    "colab": {},
    "colab_type": "code",
    "id": "HKQ5pi2U5sbH"
   },
   "outputs": [],
   "source": [
    "def labels_to_list_of_clusters(z: np.array) -> List[List[int]]:\n",
    "    \"\"\"Convert predicted label vector to a list of clusters in the graph.\n",
    "    This function is already implemented, nothing to do here.\n",
    "    \n",
    "    Parameters\n",
    "    ----------\n",
    "    z : np.array, shape [N]\n",
    "        Predicted labels.\n",
    "        \n",
    "    Returns\n",
    "    -------\n",
    "    list_of_clusters : list of lists\n",
    "        Each list contains ids of nodes that belong to the same cluster.\n",
    "        Each node may appear in one and only one partition.\n",
    "    \n",
    "    Examples\n",
    "    --------\n",
    "    >>> z = np.array([0, 0, 1, 1, 0])\n",
    "    >>> labels_to_list_of_clusters(z)\n",
    "    [[0, 1, 4], [2, 3]]\n",
    "    \n",
    "    \"\"\"\n",
    "#     where!!!\n",
    "#     out:ndarray\n",
    "#     An array with elements from x where condition is True, and elements from y elsewhere.\n",
    "    return [np.where(z == c)[0] for c in np.unique(z)]"
   ]
  },
  {
   "cell_type": "markdown",
   "metadata": {
    "colab_type": "text",
    "id": "-Oge8__M5sbJ"
   },
   "source": [
    "## 2.1. Compute ratio cut (5 pt)"
   ]
  },
  {
   "cell_type": "markdown",
   "metadata": {
    "colab_type": "text",
    "id": "lb9j2htB5sbJ"
   },
   "source": [
    "Your task is to implement functions for computing the **ratio cut** and **normalized cut** for a given partition.\n",
    "\n",
    "Ratio cut and normalized cut are defined on the slide 14 of the lecture slides.\n",
    "\n",
    "\n",
    "The function `labels_to_list_of_clusters` can be helpful here."
   ]
  },
  {
   "cell_type": "code",
   "execution_count": 12,
   "metadata": {
    "colab": {},
    "colab_type": "code",
    "id": "C-_aowVN5sbK"
   },
   "outputs": [],
   "source": [
    "def compute_ratio_cut(A: sp.csr_matrix, z: np.array) -> float:\n",
    "    \"\"\"Compute the ratio cut for the given partition of the graph.\n",
    "    \n",
    "    Parameters\n",
    "    ----------\n",
    "    A : scipy.sparse.csr_matrix, shape [N, N]\n",
    "        Adjacency matrix of the graph.\n",
    "    z : np.array, shape [N]\n",
    "        Cluster indicators for each node.\n",
    "    \n",
    "    Returns\n",
    "    -------\n",
    "    ratio_cut : float\n",
    "        Value of the cut for the given partition of the graph.\n",
    "        \n",
    "    \"\"\"\n",
    "    \n",
    "    ##########################################################\n",
    "    # YOUR CODE HERE\n",
    "#     cardinality = [len(cluster) for cluster in cluster_list]\n",
    "#     num_clusters = len(cluster_list)\n",
    "\n",
    "    cluster_list = labels_to_list_of_clusters(z)  \n",
    "    \n",
    "    ratio_cut = 0\n",
    "    for cluster in cluster_list:\n",
    "        cluster_adj = A.sum(axis=1)[cluster] \n",
    "        inter_cluster_adj = A[cluster].T[cluster]\n",
    "        cut = cluster_adj.sum() - inter_cluster_adj.sum()\n",
    "        ratio_cut +=  cut / len(cluster)\n",
    "    ##########################################################\n",
    "    return ratio_cut"
   ]
  },
  {
   "cell_type": "markdown",
   "metadata": {
    "colab_type": "text",
    "id": "9Ewl4FuX5sbM"
   },
   "source": [
    "## 2.2. Compute normalized cut (5 pt)"
   ]
  },
  {
   "cell_type": "markdown",
   "metadata": {
    "colab_type": "text",
    "id": "Bpf_epEj5sbN"
   },
   "source": [
    "**Important**: if a cluster only contains a single node, define its volume to be 1 to avoid division by zero errors."
   ]
  },
  {
   "cell_type": "code",
   "execution_count": 13,
   "metadata": {
    "colab": {},
    "colab_type": "code",
    "id": "nqY30Ls85sbN"
   },
   "outputs": [],
   "source": [
    "def compute_normalized_cut(A: sp.csr_matrix, z: np.array) -> float:\n",
    "    \"\"\"Compute the normalized cut for the given partition of the graph.\n",
    "    \n",
    "    Parameters\n",
    "    ----------\n",
    "    A : scipy.sparse.csr_matrix, shape [N, N]\n",
    "        Adjacency matrix of the graph.\n",
    "    z : np.array, shape [N]\n",
    "        Cluster indicators for each node.\n",
    "    \n",
    "    Returns\n",
    "    -------\n",
    "    norm_cut : float\n",
    "        Value of the normalized cut for the given partition of the graph.\n",
    "        \n",
    "    \"\"\"\n",
    "    \n",
    "    ##########################################################\n",
    "    # YOUR CODE HERE\n",
    "    cluster_list = labels_to_list_of_clusters(z)  \n",
    "    \n",
    "    norm_cut = 0\n",
    "    for cluster in cluster_list:\n",
    "        # make observations and avoid using for-loop\n",
    "        cluster_adj = A.sum(axis=1)[cluster] \n",
    "        inter_cluster_adj = A[cluster].T[cluster]\n",
    "        cut = cluster_adj.sum() - inter_cluster_adj.sum()\n",
    "        norm_cut += cut / cluster_adj.sum()\n",
    "    ##########################################################\n",
    "    return norm_cut"
   ]
  },
  {
   "cell_type": "markdown",
   "metadata": {
    "colab_type": "text",
    "id": "vNef7Thi5sbP"
   },
   "source": [
    "Notice, how using the unnormalized Laplacian leads to a much better ratio cut, while the normalized Laplacian leads to better normalized cut."
   ]
  },
  {
   "cell_type": "code",
   "execution_count": 14,
   "metadata": {
    "colab": {},
    "colab_type": "code",
    "id": "dhy16gKL5sbQ"
   },
   "outputs": [],
   "source": [
    "num_clusters = 6"
   ]
  },
  {
   "cell_type": "code",
   "execution_count": 15,
   "metadata": {
    "colab": {
     "base_uri": "https://localhost:8080/",
     "height": 87
    },
    "colab_type": "code",
    "id": "VpJ7wyH45sbS",
    "outputId": "b763ae1f-d6ee-49c6-d319-15eedfd16ea9"
   },
   "outputs": [
    {
     "name": "stdout",
     "output_type": "stream",
     "text": [
      "When using L_unnorm:\n",
      " ratio cut = 369.109\n",
      " normalized cut = 5.000\n",
      " sizes of partitions are: [3379, 1, 1, 1, 1, 1]\n"
     ]
    }
   ],
   "source": [
    "np.random.seed(12903)\n",
    "norm_laplacian = False\n",
    "z_unnorm = spectral_clustering(A, num_clusters, norm_laplacian)\n",
    "print('When using L_unnorm:')\n",
    "print(' ratio cut = {:.3f}'.format(compute_ratio_cut(A, z_unnorm)))\n",
    "print(' normalized cut = {:.3f}'.format(compute_normalized_cut(A, z_unnorm)))\n",
    "print(' sizes of partitions are: {}'.format([len(clust) for clust in labels_to_list_of_clusters(z_unnorm)]))"
   ]
  },
  {
   "cell_type": "code",
   "execution_count": 16,
   "metadata": {
    "colab": {
     "base_uri": "https://localhost:8080/",
     "height": 87
    },
    "colab_type": "code",
    "id": "bX8xtJWj5sbU",
    "outputId": "f4755e75-127a-4e38-a22c-6ca86a185dec"
   },
   "outputs": [
    {
     "name": "stdout",
     "output_type": "stream",
     "text": [
      "When using L_norm:\n",
      " ratio cut = 5942.851\n",
      " normalized cut = 4.343\n",
      " sizes of partitions are: [350, 742, 389, 754, 572, 577]\n"
     ]
    }
   ],
   "source": [
    "np.random.seed(12323)\n",
    "norm_laplacian = True\n",
    "z_norm = spectral_clustering(A, num_clusters, norm_laplacian)\n",
    "print('When using L_norm:')\n",
    "print(' ratio cut = {:.3f}'.format(compute_ratio_cut(A, z_norm)))\n",
    "print(' normalized cut = {:.3f}'.format(compute_normalized_cut(A, z_norm)))\n",
    "print(' sizes of partitions are: {}'.format([len(clust) for clust in labels_to_list_of_clusters(z_norm)]))"
   ]
  },
  {
   "cell_type": "markdown",
   "metadata": {
    "colab_type": "text",
    "id": "T9HPDg1O5sbn"
   },
   "source": [
    "# 3. Visualize the results (5 pt)"
   ]
  },
  {
   "cell_type": "markdown",
   "metadata": {
    "colab_type": "text",
    "id": "5WTokJ2n5sbn"
   },
   "source": [
    "In the final part of the assignment, your task is to print out the 5 most popular types of restaurants visited by the users in each cluster."
   ]
  },
  {
   "cell_type": "code",
   "execution_count": 17,
   "metadata": {
    "colab": {},
    "colab_type": "code",
    "id": "HVj-SEQc5sbn"
   },
   "outputs": [],
   "source": [
    "def print_top_categories_for_each_cluster(top_k: int, z: np.array, F: sp.csr_matrix, categories: List[str]):\n",
    "    \"\"\"Print the top-K categories among users in each cluster.\n",
    "    For each cluster, the function prints names of the top-K categories,\n",
    "    and number of users that like the respective category (separated by a comma).\n",
    "    The function doesn't return anything, just prints the output.\n",
    "    \n",
    "    Parameters\n",
    "    ----------\n",
    "    top_k : int\n",
    "        Number of most popular categories to print for each cluster.\n",
    "        \n",
    "    z : np.array, shape [N]\n",
    "        Cluster labels. 3384\n",
    "        \n",
    "    F : sp.csr_matrix, shape [N, C]\n",
    "        Matrix that tells preferences of each user to each category.\n",
    "        F[i, c] = 1 if user i gave at least one positive review to at least one restaurant in category c.\n",
    "        F: size [3384, 133]\n",
    "        \n",
    "    categories : list, shape [C]\n",
    "        Names of the categories.\n",
    "        \n",
    "    \"\"\"\n",
    "    ##########################################################\n",
    "    # YOUR CODE HERE\n",
    "    num_clusters = np.max(z) + 1\n",
    "    for i in range(num_clusters):\n",
    "        print(f\"Most popular categories in cluster {i}\")\n",
    "        cate_users = F[z==i].sum(axis=0)\n",
    "        sort_indices = np.argsort(cate_users)[::-1]\n",
    "\n",
    "        for cat in range(top_k):\n",
    "            print(f\" - {categories[sort_indices[cat]]}, {cate_users[sort_indices[cat]]}\")\n",
    "    ##########################################################"
   ]
  },
  {
   "cell_type": "code",
   "execution_count": 18,
   "metadata": {
    "colab": {},
    "colab_type": "code",
    "id": "DLBzOMJc5sbp"
   },
   "outputs": [
    {
     "name": "stdout",
     "output_type": "stream",
     "text": [
      "Most popular categories in cluster 0\n",
      " - Seafood, 315.0\n",
      " - Mexican, 314.0\n",
      " - Sandwiches, 294.0\n",
      " - Japanese, 291.0\n",
      " - Breakfast & Brunch, 286.0\n",
      "Most popular categories in cluster 1\n",
      " - Breakfast & Brunch, 636.0\n",
      " - Sandwiches, 528.0\n",
      " - Italian, 514.0\n",
      " - Pizza, 482.0\n",
      " - Coffee & Tea, 473.0\n",
      "Most popular categories in cluster 2\n",
      " - Specialty Food, 356.0\n",
      " - Thai, 355.0\n",
      " - Breakfast & Brunch, 348.0\n",
      " - Japanese, 333.0\n",
      " - Ethnic Food, 330.0\n",
      "Most popular categories in cluster 3\n",
      " - Breakfast & Brunch, 664.0\n",
      " - Italian, 626.0\n",
      " - American (Traditional), 518.0\n",
      " - Sandwiches, 518.0\n",
      " - Pizza, 485.0\n",
      "Most popular categories in cluster 4\n",
      " - Japanese, 507.0\n",
      " - Breakfast & Brunch, 462.0\n",
      " - Sandwiches, 435.0\n",
      " - Italian, 417.0\n",
      " - Asian Fusion, 414.0\n",
      "Most popular categories in cluster 5\n",
      " - Japanese, 529.0\n",
      " - Chinese, 441.0\n",
      " - Asian Fusion, 414.0\n",
      " - Sushi Bars, 408.0\n",
      " - Desserts, 406.0\n"
     ]
    }
   ],
   "source": [
    "np.random.seed(23142)\n",
    "z_norm = spectral_clustering(A, num_clusters, True)\n",
    "r = print_top_categories_for_each_cluster(5, z_norm, F, categories)"
   ]
  }
 ],
 "metadata": {
  "colab": {
   "name": "spectral_clustering.ipynb",
   "provenance": [],
   "toc_visible": true
  },
  "kernelspec": {
   "name": "python379jvsc74a57bd0b3ba2566441a7c06988d0923437866b63cedc61552a5af99d1f4fb67d367b25f",
   "display_name": "Python 3.7.9 64-bit ('base': conda)"
  },
  "language_info": {
   "codemirror_mode": {
    "name": "ipython",
    "version": 3
   },
   "file_extension": ".py",
   "mimetype": "text/x-python",
   "name": "python",
   "nbconvert_exporter": "python",
   "pygments_lexer": "ipython3",
   "version": "3.7.9"
  },
  "toc": {
   "base_numbering": 1,
   "nav_menu": {},
   "number_sections": true,
   "sideBar": true,
   "skip_h1_title": false,
   "title_cell": "Table of Contents",
   "title_sidebar": "Contents",
   "toc_cell": false,
   "toc_position": {},
   "toc_section_display": true,
   "toc_window_display": false
  }
 },
 "nbformat": 4,
 "nbformat_minor": 1
}