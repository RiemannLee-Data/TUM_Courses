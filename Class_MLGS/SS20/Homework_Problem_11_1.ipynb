{
 "cells": [
  {
   "cell_type": "code",
   "execution_count": 1,
   "metadata": {},
   "outputs": [],
   "source": [
    "import itertools\n",
    "\n",
    "import numpy as np\n",
    "from scipy.linalg import eigh\n",
    "from scipy.sparse import coo_matrix\n",
    "\n",
    "def laplacian(A):\n",
    "    D = A.sum(axis=0)\n",
    "    return np.identity(A.shape[0]) * D - A\n",
    "\n",
    "def format_partitioning(f):\n",
    "    c1 = (f > 0.0).nonzero()[0]\n",
    "    c2 = (f < 0.0).nonzero()[0]\n",
    "    return f\"{{{', '.join(map(str, c1))}}} {{{', '.join(map(str, c2))}}}\""
   ]
  },
  {
   "cell_type": "code",
   "execution_count": 2,
   "metadata": {},
   "outputs": [],
   "source": [
    "edges = np.array([\n",
    "    (0, 1, 2), (0, 3, 2), (1, 2, 4), (1, 3, 2), (2, 3, 1),\n",
    "    (2, 4, 3), (2, 5, 4), (2, 6, 4), (4, 5, 2), (5, 6, 1)]).T\n",
    "A = coo_matrix((edges[2], (edges[0], edges[1])), shape=(7, 7))\n",
    "A = A.toarray()\n",
    "A = A + A.T\n",
    "L = laplacian(A)"
   ]
  },
  {
   "cell_type": "code",
   "execution_count": 3,
   "metadata": {},
   "outputs": [
    {
     "ename": "SyntaxError",
     "evalue": "invalid syntax (<ipython-input-3-8f915a82f79c>, line 2)",
     "output_type": "error",
     "traceback": [
      "\u001b[1;36m  File \u001b[1;32m\"<ipython-input-3-8f915a82f79c>\"\u001b[1;36m, line \u001b[1;32m2\u001b[0m\n\u001b[1;33m    fs = [((f := np.array(f_)) @ L @ f / 4, f)\u001b[0m\n\u001b[1;37m              ^\u001b[0m\n\u001b[1;31mSyntaxError\u001b[0m\u001b[1;31m:\u001b[0m invalid syntax\n"
     ]
    }
   ],
   "source": [
    "# Global minimum cut\n",
    "fs = [((f := np.array(f_)) @ L @ f / 4, f)\n",
    "      for f_ in itertools.product([-1, 1], repeat=A.shape[0])\n",
    "      if len(set(f_)) > 1]\n",
    "min_cost, min_cut = min(fs, key=lambda f: f[0])\n",
    "print(f\"Global minimum cut is {format_partitioning(min_cut)} at cost {min_cost}\")\n",
    "\n",
    "# Approximate ratio cut\n",
    "lambda_, v = eigh(L, eigvals=(1, 1))\n",
    "print(f\"Approximate ratio cut is {format_partitioning(v.squeeze())}\")\n",
    "\n",
    "# Approximate normalized cut\n",
    "D_sqrt_inv = np.diag(1 / np.sqrt(A.sum(axis=1)))\n",
    "L_normalized = D_sqrt_inv @ L @ D_sqrt_inv\n",
    "lambda_, v = eigh(L_normalized, eigvals=(1, 1))\n",
    "print(f\"Approximate normalized cut is {format_partitioning(v.squeeze())}\")"
   ]
  },
  {
   "cell_type": "code",
   "execution_count": null,
   "metadata": {},
   "outputs": [],
   "source": []
  }
 ],
 "metadata": {
  "kernelspec": {
   "display_name": "Python 3",
   "language": "python",
   "name": "python3"
  },
  "language_info": {
   "codemirror_mode": {
    "name": "ipython",
    "version": 3
   },
   "file_extension": ".py",
   "mimetype": "text/x-python",
   "name": "python",
   "nbconvert_exporter": "python",
   "pygments_lexer": "ipython3",
   "version": "3.7.9"
  }
 },
 "nbformat": 4,
 "nbformat_minor": 4
}
