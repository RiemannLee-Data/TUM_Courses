{
 "cells": [
  {
   "cell_type": "markdown",
   "metadata": {},
   "source": [
    "## Fixed point iteration (and Newton's method)"
   ]
  },
  {
   "cell_type": "code",
   "execution_count": 2,
   "metadata": {},
   "outputs": [],
   "source": [
    "# the required imports\n",
    "import numpy as np\n",
    "from scipy.linalg import lu, solve_triangular\n",
    "from numpy.linalg import qr, svd, inv\n",
    "import matplotlib.pyplot as plt\n",
    "from skimage.transform import radon, rescale\n",
    "from ipywidgets import interactive, IntSlider, FloatSlider, fixed"
   ]
  },
  {
   "cell_type": "markdown",
   "metadata": {},
   "source": [
    "_setup some helper functions_"
   ]
  },
  {
   "cell_type": "code",
   "execution_count": 3,
   "metadata": {},
   "outputs": [],
   "source": [
    "# helper function to load Shepp-Logan phantom \n",
    "def getPhantom(size):\n",
    "    if size == 128:\n",
    "        return plt.imread('phantom.png')\n",
    "    elif size == 32:\n",
    "        p = plt.imread('phantom.png')\n",
    "        return rescale(p, scale=1/4, mode='reflect', multichannel=False)\n",
    "    elif size == 4:\n",
    "        p = plt.imread('phantom.png')\n",
    "        return rescale(p, scale=1/32, mode='reflect', multichannel=False)\n",
    "    else:\n",
    "        raise NotImplementedError\n",
    "\n",
    "\n",
    "# compute the matrix of the Radon transform (and also do the right hand side)\n",
    "def computeRadonMatrixRhs(image, numberOfAngles):\n",
    "    angles = np.linspace(0, 180, numberOfAngles) \n",
    "    \n",
    "    sizeX, sizeY = image.shape\n",
    "    if sizeX != sizeY:                   # this works only for square images!\n",
    "        raise ValueError\n",
    "    size = image.size\n",
    "    \n",
    "    M = np.zeros((angles.size * sizeX, size)) # initialize matrix with zeros\n",
    "    basisVec = np.zeros(size)            # initialize basis vector with zeros\n",
    "    \n",
    "    for i in range(size):\n",
    "        basisVec[i] = 1                                # set to i-th basis vector\n",
    "        bVecAsImg = basisVec.reshape(sizeX, sizeY)     # reshape to a 2d image\n",
    "        \n",
    "        column = radon(bVecAsImg, angles, circle=True) # compute Radon transform of this basis vector\n",
    "        M[:, i] = column.flatten()                     # linearize and put into matrix as i-th column\n",
    "        \n",
    "        basisVec[i] = 0                                # reset basis vector to zero\n",
    "        \n",
    "    rhs = radon(image, angles, circle=True) # compute the right hand side\n",
    "    return (M, rhs.flatten())"
   ]
  },
  {
   "cell_type": "markdown",
   "metadata": {},
   "source": [
    "### Setup our matrix (and right-hand side)"
   ]
  },
  {
   "cell_type": "code",
   "execution_count": 4,
   "metadata": {},
   "outputs": [
    {
     "name": "stderr",
     "output_type": "stream",
     "text": [
      "C:\\ProgramData\\Anaconda3\\lib\\site-packages\\skimage\\transform\\radon_transform.py:63: UserWarning: Radon transform: image must be zero outside the reconstruction circle\n",
      "  warn('Radon transform: image must be zero outside the '\n"
     ]
    },
    {
     "name": "stdout",
     "output_type": "stream",
     "text": [
      "A has size =  (1024, 1024) , and b has size =  1024\n"
     ]
    },
    {
     "data": {
      "image/png": "[encoded data removed]",
      "text/plain": [
       "<Figure size 1440x432 with 3 Axes>"
      ]
     },
     "metadata": {
      "needs_background": "light"
     },
     "output_type": "display_data"
    }
   ],
   "source": [
    "image = getPhantom(32)\n",
    "\n",
    "plt.figure(figsize=(20,6))\n",
    "plt.subplot(1, 3, 1, title='original phantom')\n",
    "plt.imshow(image); plt.axis('off')\n",
    "\n",
    "# get matrix A and no-noise right-hand-side b\n",
    "A, b = computeRadonMatrixRhs(image, 32)\n",
    "print(\"A has size = \", A.shape, \", and b has size = \", b.size)\n",
    "\n",
    "# precompute A^TA and pinv(A^TA)\n",
    "AtA = np.dot(A.T, A)\n",
    "pinvAtA = np.linalg.pinv(AtA)\n",
    "\n",
    "# add some white noise to right-hand-side b\n",
    "noise = max(b) * 0.01 * np.random.randn(b.size)\n",
    "bNoisy = b + noise\n",
    "\n",
    "plt.subplot(1, 3, 2, title='Radon transform (no noise)')\n",
    "plt.imshow( b.reshape(32, 32) ); plt.axis('off')\n",
    "\n",
    "plt.subplot(1, 3, 3, title='Radon transform (with noise)')\n",
    "plt.imshow( bNoisy.reshape(32, 32) ); plt.axis('off')\n",
    "plt.show()"
   ]
  },
  {
   "cell_type": "markdown",
   "metadata": {},
   "source": [
    "### Setup fixed point iteration"
   ]
  },
  {
   "cell_type": "code",
   "execution_count": 5,
   "metadata": {},
   "outputs": [],
   "source": [
    "# setup the functions we are going to iterate\n",
    "\n",
    "def fixFuncGeneric(x, rhs):\n",
    "    Fx = AtA.dot(x) - (A.T).dot(rhs)\n",
    "    return x - Fx\n",
    "\n",
    "def fixFuncNewton(x, rhs):\n",
    "    Fx = AtA.dot(x) - (A.T).dot(rhs)\n",
    "    JFx = AtA\n",
    "    pinvJFx = pinvAtA\n",
    "    return x - np.dot(pinvJFx, Fx)"
   ]
  },
  {
   "cell_type": "code",
   "execution_count": 6,
   "metadata": {},
   "outputs": [],
   "source": [
    "# function to perform fixed point iteration\n",
    "def fixedPointIteration(function, iterations, startingValue, rhs):\n",
    "    x = startingValue\n",
    "    for i in range(iterations):\n",
    "        Tx = function(x, rhs)\n",
    "        x = Tx\n",
    "    \n",
    "    return x"
   ]
  },
  {
   "cell_type": "markdown",
   "metadata": {},
   "source": [
    "### Solve the reconstruction problem using fixed point iteration"
   ]
  },
  {
   "cell_type": "code",
   "execution_count": 7,
   "metadata": {},
   "outputs": [],
   "source": [
    "def computeSolutions(iterations, withNoise):\n",
    "    # set right hand side\n",
    "    if (withNoise):\n",
    "        rhs = bNoisy\n",
    "    else:\n",
    "        rhs = b\n",
    "    \n",
    "    # 0 vector as starting value\n",
    "    startingValue = np.zeros((32, 32))\n",
    "\n",
    "    plt.figure(figsize=(14,6))\n",
    "    plt.subplot(1, 2, 1, title='Fixed point iteration')\n",
    "    plt.imshow(fixedPointIteration(fixFuncGeneric, iterations, startingValue.flatten(), rhs).reshape(32, 32)); plt.axis('off')\n",
    "\n",
    "    plt.subplot(1, 2, 2, title='Newton iteration')\n",
    "    plt.imshow(fixedPointIteration(fixFuncNewton, iterations, startingValue.flatten(), rhs).reshape(32, 32)); plt.axis('off')\n",
    "    plt.show()"
   ]
  },
  {
   "cell_type": "code",
   "execution_count": 8,
   "metadata": {},
   "outputs": [
    {
     "data": {
      "application/vnd.jupyter.widget-view+json": {
       "model_id": "a0aed911124443c39426842f49403d84",
       "version_major": 2,
       "version_minor": 0
      },
      "text/plain": [
       "interactive(children=(IntSlider(value=10, continuous_update=False, description='iterations', max=150, min=1), …"
      ]
     },
     "metadata": {},
     "output_type": "display_data"
    }
   ],
   "source": [
    "iplot = interactive(computeSolutions, withNoise=fixed(False),\n",
    "                   iterations=IntSlider(min=1, max=150, step=1, value=10, continuous_update=False))\n",
    "iplot"
   ]
  },
  {
   "cell_type": "markdown",
   "metadata": {},
   "source": [
    "### now with noise"
   ]
  },
  {
   "cell_type": "code",
   "execution_count": 9,
   "metadata": {},
   "outputs": [
    {
     "data": {
      "application/vnd.jupyter.widget-view+json": {
       "model_id": "31da1b0c94c54a3ebb4ac7b72de3aa4f",
       "version_major": 2,
       "version_minor": 0
      },
      "text/plain": [
       "interactive(children=(IntSlider(value=10, continuous_update=False, description='iterations', max=150, min=1), …"
      ]
     },
     "metadata": {},
     "output_type": "display_data"
    }
   ],
   "source": [
    "iplot = interactive(computeSolutions, withNoise=fixed(True),\n",
    "                   iterations=IntSlider(min=1, max=150, step=1, value=10, continuous_update=False))\n",
    "iplot"
   ]
  },
  {
   "cell_type": "markdown",
   "metadata": {},
   "source": [
    "### how about some Tikhonov regularization?"
   ]
  },
  {
   "cell_type": "code",
   "execution_count": 10,
   "metadata": {},
   "outputs": [],
   "source": [
    "# setup the functions we are going to iterate\n",
    "\n",
    "def fixFuncGenericTikhonov(x, rhs, alpha):\n",
    "    Fx = AtA.dot(x) + alpha*x - (A.T).dot(rhs)\n",
    "    return x - Fx\n",
    "\n",
    "def fixFuncNewtonTikhonov(x, rhs, alpha):\n",
    "    Fx = AtA.dot(x) + alpha*x - (A.T).dot(rhs)\n",
    "    JFx = AtA + alpha*np.eye(b.size)\n",
    "    pinvJFx = np.linalg.pinv(JFx)\n",
    "    return x - np.dot(pinvJFx, Fx)"
   ]
  },
  {
   "cell_type": "code",
   "execution_count": 11,
   "metadata": {},
   "outputs": [],
   "source": [
    "# function to perform fixed point iteration\n",
    "def fixedPointIterationTikhonov(function, iterations, startingValue, rhs, alpha):\n",
    "    x = startingValue\n",
    "    for i in range(iterations):\n",
    "        Tx = function(x, rhs, alpha)\n",
    "        x = Tx\n",
    "    \n",
    "    return x"
   ]
  },
  {
   "cell_type": "code",
   "execution_count": 12,
   "metadata": {},
   "outputs": [],
   "source": [
    "def computeSolutionsTikhonov(iterations, alpha, withNoise):\n",
    "    # set right hand side\n",
    "    if (withNoise):\n",
    "        rhs = bNoisy\n",
    "    else:\n",
    "        rhs = b\n",
    "    \n",
    "    # 0 vector as starting value\n",
    "    startingValue = np.zeros((32, 32))\n",
    "\n",
    "    plt.figure(figsize=(14,6))\n",
    "    plt.subplot(1, 2, 1, title='Fixed point iteration')\n",
    "    plt.imshow(fixedPointIterationTikhonov(fixFuncGenericTikhonov, iterations, startingValue.flatten(), rhs, alpha).reshape(32, 32)); plt.axis('off')\n",
    "\n",
    "    plt.subplot(1, 2, 2, title='Newton iteration')\n",
    "    plt.imshow(fixedPointIterationTikhonov(fixFuncNewtonTikhonov, iterations, startingValue.flatten(), rhs, alpha).reshape(32, 32)); plt.axis('off')\n",
    "    plt.show()"
   ]
  },
  {
   "cell_type": "code",
   "execution_count": 13,
   "metadata": {},
   "outputs": [
    {
     "data": {
      "application/vnd.jupyter.widget-view+json": {
       "model_id": "f022f07ef7ad4bae913a3893342201fb",
       "version_major": 2,
       "version_minor": 0
      },
      "text/plain": [
       "interactive(children=(IntSlider(value=1, continuous_update=False, description='iterations', max=150, min=1), F…"
      ]
     },
     "metadata": {},
     "output_type": "display_data"
    }
   ],
   "source": [
    "iplot = interactive(computeSolutionsTikhonov, withNoise=fixed(True),\n",
    "                   iterations=IntSlider(min=1, max=150, step=1, value=1, continuous_update=False),\n",
    "                   alpha=FloatSlider(minx=0, max=100, step=0.1, value=0.1, continuous_update=False))\n",
    "iplot"
   ]
  },
  {
   "cell_type": "code",
   "execution_count": null,
   "metadata": {},
   "outputs": [],
   "source": []
  }
 ],
 "metadata": {
  "kernelspec": {
   "display_name": "Python 3",
   "language": "python",
   "name": "python3"
  },
  "language_info": {
   "codemirror_mode": {
    "name": "ipython",
    "version": 3
   },
   "file_extension": ".py",
   "mimetype": "text/x-python",
   "name": "python",
   "nbconvert_exporter": "python",
   "pygments_lexer": "ipython3",
   "version": "3.7.3"
  }
 },
 "nbformat": 4,
 "nbformat_minor": 2
}
