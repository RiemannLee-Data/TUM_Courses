{
 "cells": [
  {
   "cell_type": "code",
   "execution_count": null,
   "metadata": {},
   "outputs": [],
   "source": [
    "#% pip install pyactr\n",
    "import pyactr as actr"
   ]
  },
  {
   "cell_type": "code",
   "execution_count": 17,
   "metadata": {},
   "outputs": [],
   "source": [
    "# Define chunktypes\n",
    "actr.chunktype(\"node\", \"name, parent\")\n",
    "actr.chunktype(\"path\", \"node\")"
   ]
  },
  {
   "cell_type": "code",
   "execution_count": 18,
   "metadata": {},
   "outputs": [],
   "source": [
    "# Create the graph\n",
    "v1 = actr.chunkstring(string=\"\"\"\n",
    "isa node\n",
    "name v1\n",
    "parent None\n",
    "\"\"\")\n",
    "v2 = actr.chunkstring(string=\"\"\"\n",
    "isa node\n",
    "name v2\n",
    "parent v3\n",
    "\"\"\")\n",
    "v3 = actr.chunkstring(string=\"\"\"\n",
    "isa node\n",
    "name v3\n",
    "parent v1\n",
    "\"\"\")\n",
    "v4 = actr.chunkstring(string=\"\"\"\n",
    "isa node\n",
    "name v4\n",
    "parent v7\n",
    "\"\"\")\n",
    "v5 = actr.chunkstring(string=\"\"\"\n",
    "isa node\n",
    "name v5\n",
    "parent v1\n",
    "\"\"\")\n",
    "v6 = actr.chunkstring(string=\"\"\"\n",
    "isa node\n",
    "name v6\n",
    "parent v7\n",
    "\"\"\")\n",
    "v7 = actr.chunkstring(string=\"\"\"\n",
    "isa node\n",
    "name v7\n",
    "parent v5\n",
    "\"\"\")\n",
    "v8 = actr.chunkstring(string=\"\"\"\n",
    "isa node\n",
    "name v8\n",
    "parent v6\n",
    "\"\"\")"
   ]
  },
  {
   "cell_type": "code",
   "execution_count": 19,
   "metadata": {},
   "outputs": [],
   "source": [
    "# Create an ACT-R model\n",
    "planner = actr.ACTRModel()\n",
    "dm = planner.decmem"
   ]
  },
  {
   "cell_type": "code",
   "execution_count": 20,
   "metadata": {},
   "outputs": [],
   "source": [
    "# Add chunks to the declarative memory\n",
    "dm.add(v1); dm.add(v2); dm.add(v3); dm.add(v4); dm.add(v5); dm.add(v6); dm.add(v7); dm.add(v8)"
   ]
  },
  {
   "cell_type": "code",
   "execution_count": 21,
   "metadata": {},
   "outputs": [],
   "source": [
    "# Set the goal\n",
    "goal = actr.chunkstring(string=\"\"\"\n",
    "isa path\n",
    "node v4\n",
    "\"\"\")\n",
    "planner.goal.add(goal)"
   ]
  },
  {
   "cell_type": "code",
   "execution_count": 22,
   "metadata": {},
   "outputs": [
    {
     "data": {
      "text/plain": [
       "{'=g': path(node= =nd), '?retrieval': {'buffer': 'empty', 'state': 'free'}}\n",
       "==>\n",
       "{'+retrieval': node(name= =nd, parent= )}"
      ]
     },
     "execution_count": 22,
     "metadata": {},
     "output_type": "execute_result"
    }
   ],
   "source": [
    "# Define productions\n",
    "planner.productionstring(name=\"request\", string=\"\"\"\n",
    "=g>\n",
    "isa path\n",
    "node =nd\n",
    "?retrieval>\n",
    "buffer empty\n",
    "state free\n",
    "==>\n",
    "+retrieval>\n",
    "isa node\n",
    "name =nd\n",
    "\"\"\")"
   ]
  },
  {
   "cell_type": "code",
   "execution_count": 23,
   "metadata": {},
   "outputs": [
    {
     "data": {
      "text/plain": [
       "{'=g': path(node= =nd), '=retrieval': node(name= =nd, parent= =par)}\n",
       "==>\n",
       "{'=g': path(node= =par), '~retrieval': None}"
      ]
     },
     "execution_count": 23,
     "metadata": {},
     "output_type": "execute_result"
    }
   ],
   "source": [
    "planner.productionstring(name=\"traverse\", string=\"\"\"\n",
    "=g>\n",
    "isa path\n",
    "node =nd\n",
    "=retrieval>\n",
    "isa node\n",
    "name =nd\n",
    "parent =par\n",
    "==>\n",
    "=g>\n",
    "isa path\n",
    "node =par\n",
    "~retrieval>\n",
    "\"\"\")"
   ]
  },
  {
   "cell_type": "code",
   "execution_count": 24,
   "metadata": {},
   "outputs": [
    {
     "data": {
      "text/plain": [
       "{'=g': path(node= v1)}\n",
       "==>\n",
       "{'~g': None}"
      ]
     },
     "execution_count": 24,
     "metadata": {},
     "output_type": "execute_result"
    }
   ],
   "source": [
    "planner.productionstring(name=\"finish\", string=\"\"\"\n",
    "=g>\n",
    "isa path\n",
    "node v1\n",
    "==>\n",
    "~g>\n",
    "\"\"\")"
   ]
  },
  {
   "cell_type": "code",
   "execution_count": 25,
   "metadata": {},
   "outputs": [],
   "source": [
    "# Setup the simulation\n",
    "plan_sim = planner.simulation()"
   ]
  },
  {
   "cell_type": "code",
   "execution_count": 26,
   "metadata": {},
   "outputs": [
    {
     "name": "stdout",
     "output_type": "stream",
     "text": [
      "(0, 'PROCEDURAL', 'CONFLICT RESOLUTION')\n",
      "(0, 'PROCEDURAL', 'RULE SELECTED: request')\n",
      "(0.05, 'PROCEDURAL', 'RULE FIRED: request')\n",
      "(0.05, 'retrieval', 'START RETRIEVAL')\n",
      "(0.05, 'PROCEDURAL', 'CONFLICT RESOLUTION')\n",
      "(0.05, 'PROCEDURAL', 'NO RULE FOUND')\n",
      "(0.1, 'retrieval', 'CLEARED')\n",
      "(0.1, 'retrieval', 'RETRIEVED: node(name= v4, parent= v7)')\n",
      "(0.1, 'PROCEDURAL', 'CONFLICT RESOLUTION')\n",
      "(0.1, 'PROCEDURAL', 'RULE SELECTED: traverse')\n",
      "(0.15, 'PROCEDURAL', 'RULE FIRED: traverse')\n",
      "(0.15, 'g', 'MODIFIED')\n",
      "(0.15, 'retrieval', 'CLEARED')\n",
      "(0.15, 'PROCEDURAL', 'CONFLICT RESOLUTION')\n",
      "(0.15, 'PROCEDURAL', 'RULE SELECTED: request')\n",
      "(0.2, 'PROCEDURAL', 'RULE FIRED: request')\n",
      "(0.2, 'retrieval', 'START RETRIEVAL')\n",
      "(0.2, 'PROCEDURAL', 'CONFLICT RESOLUTION')\n",
      "(0.2, 'PROCEDURAL', 'NO RULE FOUND')\n",
      "(0.25, 'retrieval', 'CLEARED')\n",
      "(0.25, 'retrieval', 'RETRIEVED: node(name= v7, parent= v5)')\n",
      "(0.25, 'PROCEDURAL', 'CONFLICT RESOLUTION')\n",
      "(0.25, 'PROCEDURAL', 'RULE SELECTED: traverse')\n",
      "(0.3, 'PROCEDURAL', 'RULE FIRED: traverse')\n",
      "(0.3, 'g', 'MODIFIED')\n",
      "(0.3, 'retrieval', 'CLEARED')\n",
      "(0.3, 'PROCEDURAL', 'CONFLICT RESOLUTION')\n",
      "(0.3, 'PROCEDURAL', 'RULE SELECTED: request')\n",
      "(0.35, 'PROCEDURAL', 'RULE FIRED: request')\n",
      "(0.35, 'retrieval', 'START RETRIEVAL')\n",
      "(0.35, 'PROCEDURAL', 'CONFLICT RESOLUTION')\n",
      "(0.35, 'PROCEDURAL', 'NO RULE FOUND')\n",
      "(0.4, 'retrieval', 'CLEARED')\n",
      "(0.4, 'retrieval', 'RETRIEVED: node(name= v5, parent= v1)')\n",
      "(0.4, 'PROCEDURAL', 'CONFLICT RESOLUTION')\n",
      "(0.4, 'PROCEDURAL', 'RULE SELECTED: traverse')\n",
      "(0.45, 'PROCEDURAL', 'RULE FIRED: traverse')\n",
      "(0.45, 'g', 'MODIFIED')\n",
      "(0.45, 'retrieval', 'CLEARED')\n",
      "(0.45, 'PROCEDURAL', 'CONFLICT RESOLUTION')\n",
      "(0.45, 'PROCEDURAL', 'RULE SELECTED: request')\n",
      "(0.5, 'PROCEDURAL', 'RULE FIRED: request')\n",
      "(0.5, 'retrieval', 'START RETRIEVAL')\n",
      "(0.5, 'PROCEDURAL', 'CONFLICT RESOLUTION')\n",
      "(0.5, 'PROCEDURAL', 'RULE SELECTED: finish')\n",
      "(0.55, 'retrieval', 'CLEARED')\n",
      "(0.55, 'PROCEDURAL', 'RULE FIRED: finish')\n",
      "(0.55, 'retrieval', 'RETRIEVED: node(name= v1, parent= None)')\n",
      "(0.55, 'g', 'CLEARED')\n",
      "(0.55, 'PROCEDURAL', 'CONFLICT RESOLUTION')\n",
      "(0.55, 'PROCEDURAL', 'NO RULE FOUND')\n"
     ]
    }
   ],
   "source": [
    "plan_sim.run()"
   ]
  },
  {
   "cell_type": "code",
   "execution_count": null,
   "metadata": {},
   "outputs": [],
   "source": []
  },
  {
   "cell_type": "code",
   "execution_count": null,
   "metadata": {},
   "outputs": [],
   "source": []
  }
 ],
 "metadata": {
  "anaconda-cloud": {},
  "kernelspec": {
   "display_name": "Python 3",
   "language": "python",
   "name": "python3"
  },
  "language_info": {
   "codemirror_mode": {
    "name": "ipython",
    "version": 3
   },
   "file_extension": ".py",
   "mimetype": "text/x-python",
   "name": "python",
   "nbconvert_exporter": "python",
   "pygments_lexer": "ipython3",
   "version": "3.7.7"
  }
 },
 "nbformat": 4,
 "nbformat_minor": 2
}
