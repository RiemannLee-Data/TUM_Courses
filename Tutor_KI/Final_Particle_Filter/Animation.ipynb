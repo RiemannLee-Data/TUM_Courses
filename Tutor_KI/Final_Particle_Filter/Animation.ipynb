{
 "cells": [
  {
   "cell_type": "markdown",
   "source": [
    "# Exercise 4, Problem 2: Robot localization using particle filtering\r\n",
    "\r\n",
    "In the lecture we have learned particle filtering, which can be interpreted as a Monte Carlo method for Hidden Markov Models. In this exercise, we learn how to use this method to track a moving robot's position over time. In this setting, we have access to the steering and velocity control inputs. We also have sensors that measure the distances to visible landmarks. The basic principle of particle filtering is then that the population of particles tracks the high-likelihood regions of the robot's position.\r\n",
    "\r\n",
    "Your tasks is to complete the missing code. Make sure that all the functions follow the provided interfaces of the functions, i.e. the output of the function exactly matches the description in the docstring.\r\n",
    "Adding or modifying code outside of the following comment blocks is not required:\r\n",
    "\r\n",
    "```\r\n",
    "##########################################################\r\n",
    "# YOUR CODE HERE\r\n",
    ".....\r\n",
    "##########################################################\r\n",
    "```\r\n",
    "\r\n",
    "After you fill in all the missing code, restart the kernel and re-run all the cells in the notebook. You are **NOT** allowed to using additional `import`  statements.\r\n"
   ],
   "metadata": {}
  },
  {
   "cell_type": "code",
   "execution_count": 1,
   "source": [
    "import copy\r\n",
    "import numpy as np\r\n",
    "\r\n",
    "import matplotlib.pyplot as plt\r\n",
    "import matplotlib.animation as animation\r\n",
    "\r\n",
    "from scipy import stats\r\n",
    "from IPython.display import HTML\r\n",
    "from matplotlib.patches import Circle\r\n",
    "\r\n",
    "# use this command for the visulization of animation, uncomment otherwise\r\n",
    "%matplotlib notebook"
   ],
   "outputs": [],
   "metadata": {}
  },
  {
   "cell_type": "markdown",
   "source": [
    "## Initialize particles\r\n",
    "Since we don't have detailed information about the robot's starting position,\r\n",
    "particles are initialized by uniformly sampling in the 2D space defined by the width and height of the map."
   ],
   "metadata": {}
  },
  {
   "cell_type": "code",
   "execution_count": 2,
   "source": [
    "def uniform_particles_construction(width, height, N) -> np.ndarray:\r\n",
    "    \"\"\"Sample particles in 2D space with no landmarks randomly.\r\n",
    "\r\n",
    "    Args:\r\n",
    "        width, height: float, width (x) and height (y) of the area in which the robot moves\r\n",
    "        N: int, number of particles\r\n",
    "    Return:\r\n",
    "        particles: numpy (np) array with particles centered around the origin with dimension particles.size = [N,2] \r\n",
    "    \"\"\"\r\n",
    "    np.random.seed(200)\r\n",
    "    particles = np.random.uniform([0,0], [width, height], size=(N, 2))\r\n",
    "    return particles"
   ],
   "outputs": [],
   "metadata": {}
  },
  {
   "cell_type": "markdown",
   "source": [
    "## Task 2: Reject invalid particles\r\n",
    "The map above contains landmarks shown as blue circles.\r\n",
    "In this case, not all previous sampled particles are valid since these particles can not located inside the landmarks.\r\n",
    "In this task you need to find the valid particles, namely, only those particles whose distance to each landmarks'\r\n",
    "center is larger or equal to the landmarks' corresponding radius is considered as valid."
   ],
   "metadata": {}
  },
  {
   "cell_type": "code",
   "execution_count": 3,
   "source": [
    "def find_valid_particles(particles, centers, radii):\r\n",
    "    \"\"\"Given randomly sampled particles, as well as centers and radii of landmarks, decide which particles are valid.\r\n",
    "    \r\n",
    "    Args:\r\n",
    "        particles: the particles we get through random generation in 2D space\r\n",
    "        centers: coordinate for each centers of landmarks\r\n",
    "        radii: the radius of cicular landmarks \r\n",
    "    Return:\r\n",
    "        valid_particles: the particles that locate outside the circular landmarks\r\n",
    "    \"\"\"\r\n",
    "    valid_particles = []\r\n",
    "\r\n",
    "    ###################################################################\r\n",
    "    # YOUR CODE HERE\r\n",
    "    for count, particle_coord in enumerate(particles):\r\n",
    "        dis = np.linalg.norm(particle_coord-centers, axis=1, keepdims=True)\r\n",
    "        if np.all(dis >= radii):\r\n",
    "            valid_particles.append(particles[count])    \r\n",
    "    ###################################################################\r\n",
    "    return np.asarray(valid_particles)"
   ],
   "outputs": [],
   "metadata": {}
  },
  {
   "cell_type": "markdown",
   "source": [
    "## Motion model\r\n",
    "Next, the model for propagating the particles' positions needs to be defined.\r\n",
    "Since we have access to the measured velocity and angle of the robot's current state,\r\n",
    "we can incorporate this information into the prediction.\r\n",
    "Furthermore, we add an uncertainty `std` (standard deviation) to account for the uncertain behavior in the next time step."
   ],
   "metadata": {}
  },
  {
   "cell_type": "code",
   "execution_count": 4,
   "source": [
    "def propagate_particle_pos(particles, v, std):\r\n",
    "    \"\"\"Predict the position at the next time step for each particle given current angles and velocities.\r\n",
    "    \r\n",
    "    Args:\r\n",
    "        particles: the particles we get after rejecting the ones that are not valid\r\n",
    "        v： array with current measurements [angle, velocity]\r\n",
    "        std: control the uncertainty of the prediction\r\n",
    "    \"\"\"\r\n",
    "    N = len(particles)\r\n",
    "    dt = 0.4\r\n",
    "    # add some noise to the distance, the level is controlled by std\r\n",
    "    delta_dist = (v[1] * dt)\r\n",
    "    mean = (0, 0)\r\n",
    "\r\n",
    "    # covariance for tangential and orthogonal uncertainty of the motion\r\n",
    "    cov = [[std**2, 0], [0, (0.15*std)**2]]\r\n",
    "    x = np.random.multivariate_normal(mean, cov, N)\r\n",
    "\r\n",
    "    # update the positions of all particles\r\n",
    "    particles[:, 0] += np.cos(v[0]) * (delta_dist + x[:,0]) - np.sin(v[0]) * x[:,1]\r\n",
    "    particles[:, 1] += np.sin(v[0]) * (delta_dist + x[:,0]) + np.cos(v[0]) * x[:,1]"
   ],
   "outputs": [],
   "metadata": {}
  },
  {
   "cell_type": "markdown",
   "source": [
    "## Task 3: Update the weights of each particle\r\n",
    "Update the weights of the particles based on the measured distances to the landmarks.\r\n",
    "The weight denotes how well the sensor model can explain the deviation between the actual measurements and the distances to the landmarks taken from the estimated position.\r\n",
    "The weights are normalized in order to obtain a probability distribution.\r\n",
    "Those particles that are closer to the actual position of the robot will generally have a higher weight than those far away from the robot.\r\n",
    "\r\n",
    "In this task, we use a normal probability distribution for the sensor model."
   ],
   "metadata": {}
  },
  {
   "cell_type": "code",
   "execution_count": 5,
   "source": [
    "def weights_update(particles, weights, dist_r_l, centers, radii, std_sensor):\r\n",
    "    \"\"\"Given the noised distances between robot and the landmarks, update the weights of particles\r\n",
    "        \r\n",
    "    Args:\r\n",
    "        particles: coordinate of particles\r\n",
    "        weights: weights of particles\r\n",
    "        dist_r_l: the current distance between robot and landmarks\r\n",
    "        centers: coordinate for each center of the landmarks\r\n",
    "        radii: the radius of the circular landmarks\r\n",
    "        std_sensor: standard deviation of the normal distribution that represents the sensor model\r\n",
    "    \r\n",
    "    Return:\r\n",
    "        weights: array with updated weights for each particle\r\n",
    "        \r\n",
    "    \"\"\"\r\n",
    "    weights.fill(1.)\r\n",
    "    \r\n",
    "    # in order to avoid round-off to zero, we add eps to each weight before multiplying it\r\n",
    "    # e.g.: weights *= weight + eps\r\n",
    "    eps = 1.e-15   \r\n",
    "    \r\n",
    "    for count, center in enumerate(centers):\r\n",
    "        ###################################################################\r\n",
    "        # YOUR CODE HERE\r\n",
    "        # distance between the particles and each landmark\r\n",
    "        dist_p_l = np.linalg.norm(particles-center, axis=1, keepdims=True) - radii[count]\r\n",
    "        # weights_i = # to be computed\r\n",
    "        weights_i = stats.norm.pdf(dist_p_l, dist_r_l[count], std_sensor)\r\n",
    "        ###################################################################\r\n",
    "        weights *=  weights_i + eps\r\n",
    "        \r\n",
    "    weights += eps\r\n",
    "    # normalize weights\r\n",
    "    weights /= sum(weights) + eps\r\n",
    "    return weights"
   ],
   "outputs": [],
   "metadata": {}
  },
  {
   "cell_type": "markdown",
   "source": [
    "## Task 4: Resample Procedure\r\n",
    "Resample the next set of particles from the previously propagated set of particles.\r\n",
    "The probability of drawing a particle is based on its previously computed weight.\r\n",
    "In principle, there are many ways to achieve this,\r\n",
    "here you can refer to the procedure given in the paper [Resampling in Particle Filtering - Comparison](http://sait.cie.put.poznan.pl/38/SAIT_38_02.pdf)\r\n",
    "to complete the systematic resampling method, which is summarized below where particles are denoted by\r\n",
    "$ \\mathbf{x}$ and weights are denoted by $\\mathbf{q}$:\r\n",
    "\r\n",
    "<img src=\"./data/PF_data/img/systematic_resample.png\" alt=\"Encoder\" style=\"width: 400px;\"/>\r\n",
    "\r\n",
    "This approach subdivides that the range of the weights $[0, 1)$ into N equally sized intervals,\r\n",
    "and then draws samples within each interval $u^i \\sim [\\frac{i-1}{N}, \\frac{i}{N})$.\r\n",
    "Particles are selected for replication, such that $u^i \\in [\\sum_p^{j-1}q_p, \\sum_p^{j}q_p)$.\r\n",
    "This resampling algorithm has a complexity of *O(N)*, and is one of the more readily recommended, due to its simplicity and operation speed."
   ],
   "metadata": {}
  },
  {
   "cell_type": "code",
   "execution_count": 6,
   "source": [
    "def resample_procedure(x, weights, u0=np.random.uniform()):\r\n",
    "    \"\"\"Perform the resampling procedure described above\r\n",
    "\r\n",
    "    Args:\r\n",
    "        x: particles from which to resample, shape = [N,2]\r\n",
    "        weights: the weights of the particles\r\n",
    "        u0: random number which is drawn only once\r\n",
    "\r\n",
    "    Return:\r\n",
    "        xx: the resampled particles\r\n",
    "        idx: indices of the particles in the resampled array xx (same order as in xx)\r\n",
    "    \"\"\"\r\n",
    "    N = len(weights)\r\n",
    "\r\n",
    "    u = u0 / N\r\n",
    "    xx = np.zeros_like(x)\r\n",
    "    idx = np.zeros(N, dtype='int')\r\n",
    "    sumQ = copy.copy(weights[0])\r\n",
    "    ###################################################################\r\n",
    "    # YOUR CODE HERE\r\n",
    "    i, j = 0, 0\r\n",
    "    for i in range(N):\r\n",
    "        while sumQ < u and j < N - 1:\r\n",
    "            j += 1\r\n",
    "            sumQ += weights[j]\r\n",
    "        xx[i, :] = x[j, :]\r\n",
    "        idx[i] = j\r\n",
    "        u += 1 / N\r\n",
    "    ###################################################################\r\n",
    "    return xx, idx"
   ],
   "outputs": [],
   "metadata": {}
  },
  {
   "cell_type": "markdown",
   "source": [
    "Using the indices of the resampled particles, we need to update the weights as well:"
   ],
   "metadata": {}
  },
  {
   "cell_type": "code",
   "execution_count": 7,
   "source": [
    "def update_resampled_weights(weights, idx):\r\n",
    "    weights[:] = weights[idx]\r\n",
    "    weights /= np.sum(weights)"
   ],
   "outputs": [],
   "metadata": {}
  },
  {
   "cell_type": "markdown",
   "source": [
    "Now let's put the prediction positions of these particles together"
   ],
   "metadata": {}
  },
  {
   "cell_type": "code",
   "execution_count": 8,
   "source": [
    "landmark_centers = np.load('./data/PF_data/centers/example_centers.npy')\r\n",
    "landmark_radii = np.load('./data/PF_data/radii/example_radii.npy')\r\n",
    "\r\n",
    "angle_velocity = np.load('./data/PF_data/velocity/example_velocity.npy')\r\n",
    "dist_r_l = np.load('./data/PF_data/distance/example_distance.npy')\r\n",
    "\r\n",
    "# only for plotting - you should not touch this data in your implementation\r\n",
    "input_sequence = np.load('./data/PF_data/trajectory/example_trajectory.npy')"
   ],
   "outputs": [],
   "metadata": {}
  },
  {
   "cell_type": "code",
   "execution_count": 9,
   "source": [
    "width_max = 800\r\n",
    "height_max = 600 \r\n",
    "particle_num = 600\r\n",
    "\r\n",
    "uncertainty_motion_model = {'no noise': 1.0, 'low noise': 7.0, 'high noise': 12.0}\r\n",
    "\r\n",
    "std_sensor = 3.0"
   ],
   "outputs": [],
   "metadata": {}
  },
  {
   "cell_type": "code",
   "execution_count": 10,
   "source": [
    "distance_noise = 3.0\r\n",
    "angle_noise = 0.05\r\n",
    "velocity_noise = 20.0\r\n",
    "dist_r_l += np.random.normal(0.0, distance_noise, size=dist_r_l.shape)\r\n",
    "angle_velocity[:,0] += np.random.normal(0.0, angle_noise, size=angle_velocity[:,0].shape)\r\n",
    "angle_velocity[:,1] += np.random.normal(0.0, velocity_noise, size=angle_velocity[:,1].shape)"
   ],
   "outputs": [],
   "metadata": {}
  },
  {
   "cell_type": "code",
   "execution_count": 11,
   "source": [
    "# We first get the particles\r\n",
    "random_particles = uniform_particles_construction(width_max, height_max, particle_num)\r\n",
    "particle_pos = find_valid_particles(random_particles, landmark_centers, landmark_radii)\r\n",
    "particle_weights = np.ones((len(particle_pos),1))\r\n",
    "\r\n",
    "# Now we need to record the coordinates of moving particles\r\n",
    "particle_trajectories = [copy.copy(particle_pos)]\r\n",
    "estimate_positions = []\r\n",
    "\r\n",
    "for t in range(len(dist_r_l)-1):\r\n",
    "    ###################################################################\r\n",
    "    # YOUR CODE HERE\r\n",
    "    propagate_particle_pos(particle_pos, angle_velocity[t], std_sensor)\r\n",
    "    weights_update(particle_pos, particle_weights, dist_r_l[t+1], landmark_centers, landmark_radii, std_sensor)\r\n",
    "    particle_pos, random_index = resample_procedure(particle_pos, particle_weights)\r\n",
    "    ###################################################################\r\n",
    "\r\n",
    "    update_resampled_weights(particle_weights, random_index)\r\n",
    "    particle_trajectories.append(copy.copy(particle_pos))\r\n",
    "    estimate_positions.append(np.average(particle_pos, weights=particle_weights.flatten(), axis=0))\r\n",
    "\r\n",
    "particle_trajectory = np.asarray(particle_trajectories)\r\n",
    "estimate_positions = np.asarray(estimate_positions)"
   ],
   "outputs": [],
   "metadata": {}
  },
  {
   "cell_type": "markdown",
   "source": [
    "## Visulization\r\n",
    "Now we visualize the moving of the robot to show how your particle filters works! What we need to achieve here is adding the moving of input sequence as well as particles onto that map."
   ],
   "metadata": {}
  },
  {
   "cell_type": "code",
   "execution_count": 12,
   "source": [
    "def animate(i): \r\n",
    "    line.set_data(input_sequence[:i+1,:].T) # update the data \r\n",
    "    scat.set_offsets(particle_trajectory[i])\r\n",
    "    return line, scat,\r\n",
    "\r\n",
    "# Init only required for blitting to give a clean slate. \r\n",
    "def init(): \r\n",
    "    line.set_data(input_sequence[1,0], input_sequence[1,1])\r\n",
    "    scat.set_offsets(particle_trajectory[0,:,:])\r\n",
    "    return line, scat,"
   ],
   "outputs": [],
   "metadata": {}
  },
  {
   "cell_type": "code",
   "execution_count": 13,
   "source": [
    "img = plt.imread('./data/PF_data/img/Canvas.png')\r\n",
    "fig,ax = plt.subplots(1)\r\n",
    "\r\n",
    "# Now, loop through coord arrays, and create a circle at center\r\n",
    "for count, value in enumerate(landmark_centers):\r\n",
    "    circ = Circle(value,landmark_radii[count])\r\n",
    "    ax.add_patch(circ)\r\n",
    "\r\n",
    "# Create a figure. Equal aspect so circles look circular\r\n",
    "ax.set_aspect('equal')\r\n",
    "ax.imshow(img)\r\n",
    "\r\n",
    "# Initialization\r\n",
    "line, = ax.plot(input_sequence[1,0], input_sequence[1,1], 'r')\r\n",
    "scat = ax.scatter(particle_trajectory[0,:,0], particle_trajectory[0,:,1],s=3, c='g')\r\n",
    "\r\n",
    "plt.xlim(0, width_max) \r\n",
    "plt.ylim(0, height_max) \r\n",
    "\r\n",
    "# ani = animation.FuncAnimation(fig, animate, np.arange(1, len(Input_Sequence)-1), init_func=init, interval=500, blit=True) \r\n",
    "ani = animation.FuncAnimation(fig, animate, np.arange(1,len(input_sequence)-1), init_func=init, interval=150, blit=True) \r\n",
    "_ = HTML(ani.to_html5_video())"
   ],
   "outputs": [
    {
     "output_type": "display_data",
     "data": {
      "image/png": "[encoded data removed]",
      "text/plain": [
       "<Figure size 432x288 with 1 Axes>"
      ]
     },
     "metadata": {
      "needs_background": "light"
     }
    }
   ],
   "metadata": {}
  },
  {
   "cell_type": "code",
   "execution_count": 16,
   "source": [
    "Writer = animation.PillowWriter(fps=10)\r\n",
    "ani.save(\"./data/PF_data/gif/Random_Particle_Filter_1.gif\", writer=Writer)"
   ],
   "outputs": [],
   "metadata": {}
  },
  {
   "cell_type": "code",
   "execution_count": null,
   "source": [],
   "outputs": [],
   "metadata": {}
  }
 ],
 "metadata": {
  "orig_nbformat": 4,
  "language_info": {
   "name": "python",
   "version": "3.7.4",
   "mimetype": "text/x-python",
   "codemirror_mode": {
    "name": "ipython",
    "version": 3
   },
   "pygments_lexer": "ipython3",
   "nbconvert_exporter": "python",
   "file_extension": ".py"
  },
  "kernelspec": {
   "name": "python3",
   "display_name": "Python 3.7.4 64-bit (system)"
  },
  "interpreter": {
   "hash": "1a082dbf6e270d5d1cb61ae393c4dbd06648490855abaecd27a59f105051779c"
  }
 },
 "nbformat": 4,
 "nbformat_minor": 2
}