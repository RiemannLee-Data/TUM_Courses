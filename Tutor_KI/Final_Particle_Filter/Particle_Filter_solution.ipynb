{
 "cells": [
  {
   "cell_type": "markdown",
   "source": [
    "# Exercise 4, Problem 2: Robot localization using particle filtering\r\n",
    "\r\n",
    "In the lecture we have learned particle filtering, which can be interpreted as a Monte Carlo method for Hidden Markov Models. In this exercise, we learn how to use this method to track a moving robot's position over time. In this setting, we have access to the steering and velocity control inputs. We also have sensors that measure the distances to visible landmarks. The basic principle of particle filtering is then that the population of particles tracks the high-likelihood regions of the robot's position.\r\n",
    "\r\n",
    "Your tasks is to complete the missing code. Make sure that all the functions follow the provided interfaces of the functions, i.e. the output of the function exactly matches the description in the docstring.\r\n",
    "Adding or modifying code outside of the following comment blocks is not required:\r\n",
    "\r\n",
    "```\r\n",
    "##########################################################\r\n",
    "# YOUR CODE HERE\r\n",
    ".....\r\n",
    "##########################################################\r\n",
    "```\r\n",
    "\r\n",
    "After you fill in all the missing code, restart the kernel and re-run all the cells in the notebook. You are **NOT** allowed to using additional `import`  statements.\r\n"
   ],
   "metadata": {}
  },
  {
   "cell_type": "code",
   "execution_count": 1,
   "source": [
    "import copy\r\n",
    "import ipywidgets\r\n",
    "import numpy as np\r\n",
    "import matplotlib.pyplot as plt\r\n",
    "from matplotlib import cm\r\n",
    "import matplotlib.patches as mpatches\r\n",
    "\r\n",
    "from scipy import stats\r\n",
    "\r\n",
    "# uncomment for multiple output in a cell\r\n",
    "# from IPython.core.interactiveshell import InteractiveShell\r\n",
    "# InteractiveShell.ast_node_interactivity = 'all'"
   ],
   "outputs": [],
   "metadata": {}
  },
  {
   "cell_type": "markdown",
   "source": [
    "## Initialize particles\r\n",
    "Since we don't have detailed information about the robot's starting position,\r\n",
    "particles are initialized by uniformly sampling in the 2D space defined by the width and height of the map."
   ],
   "metadata": {}
  },
  {
   "cell_type": "code",
   "execution_count": 2,
   "source": [
    "def uniform_particles_construction(width, height, N) -> np.ndarray:\r\n",
    "    \"\"\"Sample particles in 2D space with no landmarks randomly.\r\n",
    "\r\n",
    "    Args:\r\n",
    "        width, height: float, width (x) and height (y) of the area in which the robot moves\r\n",
    "        N: int, number of particles\r\n",
    "    Return:\r\n",
    "        particles: numpy (np) array with particles centered around the origin with dimension particles.size = [N,2] \r\n",
    "    \"\"\"\r\n",
    "    np.random.seed(200)\r\n",
    "    particles = np.random.uniform([0,0], [width, height], size=(N, 2))\r\n",
    "    return particles"
   ],
   "outputs": [],
   "metadata": {}
  },
  {
   "cell_type": "markdown",
   "source": [
    "Here we show a example map in which the robot moves:\r\n",
    "\r\n",
    "<img src=\"./data/PF_data/img/Map_Rejection_Sampling.png\" alt=\"Encoder\" style=\"width: 400px;\">\r\n"
   ],
   "metadata": {}
  },
  {
   "cell_type": "markdown",
   "source": [
    "## Task 2: Reject invalid particles\n",
    "The map above contains landmarks shown as blue circles.\n",
    "In this case, not all previous sampled particles are valid since these particles can not located inside the landmarks.\n",
    "In this task you need to find the valid particles, namely, only those particles whose distance to each landmarks'\n",
    "center is larger or equal to the landmarks' corresponding radius is considered as valid."
   ],
   "metadata": {}
  },
  {
   "cell_type": "code",
   "execution_count": 3,
   "source": [
    "def find_valid_particles(particles, centers, radii):\r\n",
    "    \"\"\"Given randomly sampled particles, as well as centers and radii of landmarks, decide which particles are valid.\r\n",
    "    \r\n",
    "    Args:\r\n",
    "        particles: the particles we get through random generation in 2D space\r\n",
    "        centers: coordinate for each centers of landmarks\r\n",
    "        radii: the radius of cicular landmarks \r\n",
    "    Return:\r\n",
    "        valid_particles: the particles that locate outside the circular landmarks\r\n",
    "    \"\"\"\r\n",
    "    valid_particles = []\r\n",
    "\r\n",
    "    ###################################################################\r\n",
    "    # YOUR CODE HERE\r\n",
    "    for count, particle_coord in enumerate(particles):\r\n",
    "        if (particle_coord[0] < 0) or (particle_coord[0] > 800) or (particle_coord[1] < 0) or (particle_coord[1] > 600):\r\n",
    "            continue\r\n",
    "        else:\r\n",
    "            dis = np.linalg.norm(particle_coord-centers, axis=1, keepdims=True)\r\n",
    "            if np.all(dis <= radii):\r\n",
    "                continue\r\n",
    "            else:\r\n",
    "                valid_particles.append(particles[count])\r\n",
    "    ###################################################################\r\n",
    "    return np.asarray(valid_particles)"
   ],
   "outputs": [],
   "metadata": {}
  },
  {
   "cell_type": "markdown",
   "source": [
    "## Motion model\n",
    "Next, the model for propagating the particles' positions needs to be defined.\n",
    "Since we have access to the measured velocity and angle of the robot's current state,\n",
    "we can incorporate this information into the prediction.\n",
    "Furthermore, we add an uncertainty `std` (standard deviation) to account for the uncertain behavior in the next time step."
   ],
   "metadata": {}
  },
  {
   "cell_type": "code",
   "execution_count": 4,
   "source": [
    "def propagate_particle_pos(particles, v, std):\r\n",
    "    \"\"\"Predict the position at the next time step for each particle given current angles and velocities.\r\n",
    "    \r\n",
    "    Args:\r\n",
    "        particles: the particles we get after rejecting the ones that are not valid\r\n",
    "        v： array with current measurements [angle, velocity]\r\n",
    "        std: control the uncertainty of the prediction\r\n",
    "    \"\"\"\r\n",
    "    N = len(particles)\r\n",
    "    dt = 0.4\r\n",
    "    # add some noise to the distance, the level is controlled by std\r\n",
    "    delta_dist = (v[1] * dt)\r\n",
    "    mean = (0, 0)\r\n",
    "\r\n",
    "    # covariance for tangential and orthogonal uncertainty of the motion\r\n",
    "    cov = [[std**2, 0], [0, (0.15*std)**2]]\r\n",
    "    x = np.random.multivariate_normal(mean, cov, N)\r\n",
    "\r\n",
    "    # update the positions of all particles\r\n",
    "    particles[:, 0] += np.cos(v[0]) * (delta_dist + x[:,0]) - np.sin(v[0]) * x[:,1]\r\n",
    "    particles[:, 1] += np.sin(v[0]) * (delta_dist + x[:,0]) + np.cos(v[0]) * x[:,1]\r\n"
   ],
   "outputs": [],
   "metadata": {}
  },
  {
   "cell_type": "markdown",
   "source": [
    "## Task 3: Update the weights of each particle\n",
    "Update the weights of the particles based on the measured distances to the landmarks.\n",
    "The weight denotes how well the sensor model can explain the deviation between the actual measurements and the distances to the landmarks taken from the estimated position.\n",
    "The weights are normalized in order to obtain a probability distribution.\n",
    "Those particles that are closer to the actual position of the robot will generally have a higher weight than those far away from the robot.\n",
    "\n",
    "In this task, we use a normal probability distribution for the sensor model."
   ],
   "metadata": {}
  },
  {
   "cell_type": "code",
   "execution_count": 5,
   "source": [
    "def weights_update(particles, weights, dist_r_l, centers, radii, std_sensor):\r\n",
    "    \"\"\"Given the noised distances between robot and the landmarks, update the weights of particles\r\n",
    "        \r\n",
    "    Args:\r\n",
    "        particles: coordinate of particles\r\n",
    "        weights: weights of particles\r\n",
    "        dist_r_l: the current distance between robot and landmarks\r\n",
    "        centers: coordinate for each center of the landmarks\r\n",
    "        radii: the radius of the circular landmarks\r\n",
    "        std_sensor: standard deviation of the normal distribution that represents the sensor model\r\n",
    "    \r\n",
    "    Return:\r\n",
    "        weights: array with updated weights for each particle\r\n",
    "        \r\n",
    "    \"\"\"\r\n",
    "    weights.fill(1.)\r\n",
    "    \r\n",
    "    # in order to avoid round-off to zero, we add eps to each weight before multiplying it\r\n",
    "    # e.g.: weights *= weight + eps\r\n",
    "    eps = 1.e-15   \r\n",
    "    \r\n",
    "    for count, center in enumerate(centers):\r\n",
    "        ###################################################################\r\n",
    "        # YOUR CODE HERE\r\n",
    "        # distance between the particles and each landmark\r\n",
    "        dist_p_l = np.linalg.norm(particles-center, axis=1, keepdims=True) - radii[count]\r\n",
    "        # weights_i = # to be computed\r\n",
    "        weights_i = stats.norm.pdf(dist_p_l, dist_r_l[count], std_sensor)\r\n",
    "        ###################################################################\r\n",
    "        weights *=  weights_i + eps\r\n",
    "        \r\n",
    "    weights += eps\r\n",
    "    # normalize weights\r\n",
    "    weights /= sum(weights) + eps\r\n",
    "    return weights"
   ],
   "outputs": [],
   "metadata": {}
  },
  {
   "cell_type": "markdown",
   "source": [
    "## Task 4: Resample Procedure\r\n",
    "Resample the next set of particles from the previously propagated set of particles.\r\n",
    "The probability of drawing a particle is based on its previously computed weight.\r\n",
    "In principle, there are many ways to achieve this,\r\n",
    "here you can refer to the procedure given in the paper [Resampling in Particle Filtering - Comparison](http://sait.cie.put.poznan.pl/38/SAIT_38_02.pdf)\r\n",
    "to complete the systematic resampling method, which is summarized below where particles are denoted by\r\n",
    "$ \\mathbf{x}$ and weights are denoted by $\\mathbf{q}$:\r\n",
    "\r\n",
    "<img src=\"./data/PF_data/img/systematic_resample.png\" alt=\"Encoder\" style=\"width: 400px;\"/>\r\n",
    "\r\n",
    "This approach subdivides that the range of the weights $[0, 1)$ into N equally sized intervals,\r\n",
    "and then draws samples within each interval $u^i \\sim [\\frac{i-1}{N}, \\frac{i}{N})$.\r\n",
    "Particles are selected for replication, such that $u^i \\in [\\sum_p^{j-1}q_p, \\sum_p^{j}q_p)$.\r\n",
    "This resampling algorithm has a complexity of *O(N)*, and is one of the more readily recommended, due to its simplicity and operation speed."
   ],
   "metadata": {}
  },
  {
   "cell_type": "code",
   "execution_count": 6,
   "source": [
    "def resample_procedure(x, weights, u0=np.random.uniform()):\r\n",
    "    \"\"\"Perform the resampling procedure described above\r\n",
    "\r\n",
    "    Args:\r\n",
    "        x: particles from which to resample, shape = [N,2]\r\n",
    "        weights: the weights of the particles\r\n",
    "        u0: random number which is drawn only once\r\n",
    "\r\n",
    "    Return:\r\n",
    "        xx: the resampled particles\r\n",
    "        idx: indices of the particles in the resampled array xx (same order as in xx)\r\n",
    "    \"\"\"\r\n",
    "    N = len(weights)\r\n",
    "\r\n",
    "    u = u0 / N\r\n",
    "    xx = np.zeros_like(x)\r\n",
    "    idx = np.zeros(N, dtype='int')\r\n",
    "    sumQ = copy.copy(weights[0])\r\n",
    "    ###################################################################\r\n",
    "    # YOUR CODE HERE\r\n",
    "    i, j = 0, 0\r\n",
    "    for i in range(N):\r\n",
    "        while sumQ < u and j < N - 1:\r\n",
    "            j += 1\r\n",
    "            sumQ += weights[j]\r\n",
    "        xx[i, :] = x[j, :]\r\n",
    "        idx[i] = j\r\n",
    "        u += 1 / N\r\n",
    "    ###################################################################\r\n",
    "    return xx, idx"
   ],
   "outputs": [],
   "metadata": {}
  },
  {
   "cell_type": "markdown",
   "source": [
    "Using the indices of the resampled particles, we need to update the weights as well:"
   ],
   "metadata": {}
  },
  {
   "cell_type": "code",
   "execution_count": 7,
   "source": [
    "def update_resampled_weights(weights, idx):\r\n",
    "    weights[:] = weights[idx]\r\n",
    "    weights /= np.sum(weights)"
   ],
   "outputs": [],
   "metadata": {}
  },
  {
   "cell_type": "markdown",
   "source": [
    "## Load the data\n",
    "Here we are provided with information about landmarks of the maps, and also the robot's trajectory as reference.\n",
    "The velocity and distance data can be interpreted as the observed states in the HMM model."
   ],
   "metadata": {}
  },
  {
   "cell_type": "code",
   "execution_count": 8,
   "source": [
    "landmark_centers = np.load('./data/PF_data/centers/example_centers.npy')\r\n",
    "landmark_radii = np.load('./data/PF_data/radii/example_radii.npy')\r\n",
    "\r\n",
    "angle_velocity = np.load('./data/PF_data/velocity/example_velocity.npy')\r\n",
    "dist_r_l = np.load('./data/PF_data/distance/example_distance.npy')\r\n",
    "\r\n",
    "# only for plotting - you should not touch this data in your implementation\r\n",
    "input_sequence = np.load('./data/PF_data/trajectory/example_trajectory.npy')"
   ],
   "outputs": [],
   "metadata": {}
  },
  {
   "cell_type": "markdown",
   "source": [
    "Uncomment to see how a robot moves on a new map (doesn't influce results on Artemis)."
   ],
   "metadata": {}
  },
  {
   "cell_type": "code",
   "execution_count": 9,
   "source": [
    "# map_ID = 0  # choose between 0 and 1\r\n",
    "# landmark_centers = np.load(f'./data/PF_data/centers/centers_{map_ID}.npy')\r\n",
    "# landmark_radii = np.load(f'./data/PF_data/radii/radii_{map_ID}.npy')\r\n",
    "\r\n",
    "# angle_velocity = np.load(f'./data/PF_data/velocity/velocity_{map_ID}.npy')\r\n",
    "# dist_r_l = np.load(f'./data/PF_data/distance/distance_{map_ID}.npy')\r\n",
    "\r\n",
    "# # only for plotting - you should not touch this data in your implementation\r\n",
    "# input_sequence = np.load(f'./data/PF_data/trajectory/trajectory_{map_ID}.npy')"
   ],
   "outputs": [],
   "metadata": {}
  },
  {
   "cell_type": "markdown",
   "source": [
    "We add noise to the sensor data to simulate imperfect real-world measurements (doesn't influce results on Artemis)."
   ],
   "metadata": {}
  },
  {
   "cell_type": "code",
   "execution_count": 10,
   "source": [
    "distance_noise = 3.0\r\n",
    "angle_noise = 0.05\r\n",
    "velocity_noise = 20.0\r\n",
    "dist_r_l += np.random.normal(0.0, distance_noise, size=dist_r_l.shape)\r\n",
    "angle_velocity[:,0] += np.random.normal(0.0, angle_noise, size=angle_velocity[:,0].shape)\r\n",
    "angle_velocity[:,1] += np.random.normal(0.0, velocity_noise, size=angle_velocity[:,1].shape)"
   ],
   "outputs": [],
   "metadata": {}
  },
  {
   "cell_type": "markdown",
   "source": [
    "## Set parameters\n",
    "In this cell we set some predefined hyperparameters. The `uncertainty_motion_model` contains different levels for the uncertainty in the motion model.\n",
    "`std_sensor` denotes the standard deviation of the distance measurements of the sensor.\n",
    "In this setting, we have continuous transition and sensor models in contrast to discrete models as in the lecture."
   ],
   "metadata": {}
  },
  {
   "cell_type": "code",
   "execution_count": 11,
   "source": [
    "width_max = 800\r\n",
    "height_max = 600 \r\n",
    "particle_num = 600\r\n",
    "\r\n",
    "uncertainty_motion_model = {'no noise': 1.0, 'low noise': 7.0, 'high noise': 12.0}\r\n",
    "\r\n",
    "std_sensor = 3.0"
   ],
   "outputs": [],
   "metadata": {}
  },
  {
   "cell_type": "markdown",
   "source": [
    "## Task 5: Main particle filtering algorithm\n",
    "Finally, the implemented functions need to be put together in order to perform particle filtering."
   ],
   "metadata": {}
  },
  {
   "cell_type": "code",
   "execution_count": 12,
   "source": [
    "def particle_filtering(width, height, N, centers, radii, velocity, distance, std_prediction, std_sensor):\r\n",
    "    \"\"\" Main method for particle filtering. Returns the estimated trajectories of N particles.\r\n",
    "        \r\n",
    "    Args:\r\n",
    "        width, height: decide moving regions of the robot\r\n",
    "        N: number of particles\r\n",
    "        centers: centers of landmarks\r\n",
    "        radii: radii of landmarks\r\n",
    "        distance: measured distances from the robot to the landmarks\r\n",
    "        std_prediction: uncertainty used for prediction\r\n",
    "        std_sensor: standard deviation of the sensor model\r\n",
    "    Return:\r\n",
    "        list of positions of all particles, shape = [len(distance), N, 2],\r\n",
    "        list particle weights, shape = [len(distance), N]\r\n",
    "        final weights of particles, shape = [len(distance), 1]\r\n",
    "    \r\n",
    "    \"\"\"\r\n",
    "    # First we initialize the particles and the particle weights\r\n",
    "    random_particles = uniform_particles_construction(width, height, N)\r\n",
    "    particle_pos = find_valid_particles(random_particles, centers, radii)\r\n",
    "    particle_weights = np.ones((len(particle_pos),1))\r\n",
    "\r\n",
    "    # Now we need to record the coordinates of moving particles\r\n",
    "    particle_trajectories = [copy.copy(particle_pos)]\r\n",
    "    estimate_positions = []\r\n",
    "\r\n",
    "    for t in range(len(distance)-1):\r\n",
    "        ###################################################################\r\n",
    "        # YOUR CODE HERE\r\n",
    "        propagate_particle_pos(particle_pos, velocity[t], std_prediction)\r\n",
    "        weights_update(particle_pos, particle_weights, distance[t+1], centers, radii, std_sensor)\r\n",
    "        particle_pos, random_index = resample_procedure(particle_pos, particle_weights)\r\n",
    "        ###################################################################\r\n",
    "\r\n",
    "        update_resampled_weights(particle_weights, random_index)\r\n",
    "        particle_trajectories.append(copy.copy(particle_pos))\r\n",
    "        estimate_positions.append(np.average(particle_pos, weights=particle_weights.flatten(), axis=0))\r\n",
    "\r\n",
    "    particle_trajectory = np.asarray(particle_trajectories)\r\n",
    "    estimate_positions = np.asarray(estimate_positions)\r\n",
    "    \r\n",
    "    return particle_trajectory, estimate_positions, particle_weights"
   ],
   "outputs": [],
   "metadata": {}
  },
  {
   "cell_type": "code",
   "execution_count": 13,
   "source": [
    "# setting the seed ensures drawing consistent samples for each execution of the particle filter.\r\n",
    "# This can be changed for testing purposes and doesn't influence the result on Artemis.\r\n",
    "seed = 200\r\n",
    "\r\n",
    "def concatenate_result(width, height, N, centers, radii, v, dist, noise, std_sensor):\r\n",
    "    trajectory_all = []\r\n",
    "    weight_all = []\r\n",
    "    estimate_positions_all = []\r\n",
    "\r\n",
    "    for noise_i in noise.values():\r\n",
    "        np.random.seed(seed)\r\n",
    "        trajectories, estimate_positions, weights = particle_filtering(width, height, N, centers, radii, v, dist, noise_i, std_sensor)\r\n",
    "        trajectory_all.append(trajectories)\r\n",
    "        estimate_positions_all.append(estimate_positions)\r\n",
    "        weight_all.append(weights)\r\n",
    "\r\n",
    "    return trajectory_all, weight_all, estimate_positions_all"
   ],
   "outputs": [],
   "metadata": {}
  },
  {
   "cell_type": "code",
   "execution_count": 14,
   "source": [
    "trajectory_all, weight_all, estimate_positions = concatenate_result(width_max, height_max, particle_num, landmark_centers, landmark_radii, angle_velocity, dist_r_l, uncertainty_motion_model, std_sensor)"
   ],
   "outputs": [],
   "metadata": {}
  },
  {
   "cell_type": "markdown",
   "source": [
    "## Visualization\n",
    "Now we visualize the ground truth movement of the robot to show how your particle filters works! What we need to achieve here is adding the moving of input sequence as well as particles onto that map."
   ],
   "metadata": {}
  },
  {
   "cell_type": "code",
   "execution_count": 15,
   "source": [
    "plt.ion()\r\n",
    "def location(time_step):\r\n",
    "    fig,ax = plt.subplots(1, 3, figsize=(15, 5))\r\n",
    "    vmax=np.max(np.concatenate([w.flatten() for w in weight_all]))\r\n",
    "\r\n",
    "    for i in range(0, 3):\r\n",
    "        ax_unpack = ax.ravel()\r\n",
    "        ax_unpack[i].set_title(f\"Transition model uncertainty: {list(uncertainty_motion_model.values())[i]}\")\r\n",
    "        ax_unpack[i].set_aspect('equal')\r\n",
    "        ax_unpack[i].plot(estimate_positions[i][:time_step,0],\r\n",
    "                          estimate_positions[i][:time_step,1], lw=1, c='b')\r\n",
    "\r\n",
    "        ax_unpack[i].plot(input_sequence[:time_step + 1,0], input_sequence[:time_step + 1, 1], lw=1, c='r')\r\n",
    "        ax_unpack[i].scatter(input_sequence[time_step, 0], input_sequence[time_step, 1], s=25, c='r', marker='x')\r\n",
    "        order = np.argsort(weight_all[i].flatten()) # plot highly weighted points on top\r\n",
    "        ax_unpack[i].scatter(trajectory_all[i][time_step, order, 0], trajectory_all[i][time_step, order, 1],s=2,\r\n",
    "                             c=weight_all[i].flatten()[order], cmap=cm.winter, vmin=0.0, vmax=vmax)\r\n",
    "\r\n",
    "        for count, value in enumerate(landmark_centers):\r\n",
    "            circ = mpatches.Circle(value,landmark_radii[count], alpha=0.5)\r\n",
    "            ax_unpack[i].add_patch(circ)\r\n",
    "        ax_unpack[i].imshow(img)\r\n"
   ],
   "outputs": [],
   "metadata": {}
  },
  {
   "cell_type": "markdown",
   "source": [
    "### Legend\n",
    "**red**: ground truth positions\n",
    "\n",
    "**blue**: weighted average of the particle's positions"
   ],
   "metadata": {}
  },
  {
   "cell_type": "code",
   "execution_count": 16,
   "source": [
    "img = plt.imread('data/PF_data/img/Canvas.png')\r\n",
    "\r\n",
    "iplot = ipywidgets.interactive(location, time_step=(0, len(trajectory_all[1])-2))\r\n",
    "iplot"
   ],
   "outputs": [
    {
     "output_type": "display_data",
     "data": {
      "image/png": "[encoded data removed]",
      "text/plain": [
       "<Figure size 1080x360 with 3 Axes>"
      ]
     },
     "metadata": {
      "needs_background": "light"
     }
    }
   ],
   "metadata": {}
  },
  {
   "cell_type": "markdown",
   "source": [
    "## Understanding the result\n",
    "If your implementation is correct, the particles will eventually converge to the ground truth trajectory (red).\n",
    "As you can see, the results strongly depend on the uncertainty in the transition model.\n",
    "### Questions for yourself:\n",
    "- Why does a model with larger uncertainties often outperform the model with the smallest uncertainty?\n",
    "- How could this particle filter be improved? Also, try to play with the hyperparameters. "
   ],
   "metadata": {}
  }
 ],
 "metadata": {
  "kernelspec": {
   "name": "python3",
   "display_name": "Python 3.7.4 64-bit (system)"
  },
  "language_info": {
   "codemirror_mode": {
    "name": "ipython",
    "version": 3
   },
   "file_extension": ".py",
   "mimetype": "text/x-python",
   "name": "python",
   "nbconvert_exporter": "python",
   "pygments_lexer": "ipython3",
   "version": "3.7.4"
  },
  "interpreter": {
   "hash": "1a082dbf6e270d5d1cb61ae393c4dbd06648490855abaecd27a59f105051779c"
  }
 },
 "nbformat": 4,
 "nbformat_minor": 4
}